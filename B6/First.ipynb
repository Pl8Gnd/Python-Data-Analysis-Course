{
 "cells": [
  {
   "cell_type": "code",
   "execution_count": 5,
   "metadata": {},
   "outputs": [],
   "source": [
    "import pandas as pd \n",
    "log = pd.read_csv('log.csv', header = None)\n",
    "log.columns = ['user_id', 'time', 'bet', 'win']\n",
    "us = pd.read_csv('users.csv', encoding= 'koi8_r', sep=\"\\t\")\n",
    "us.columns = ['user_id', 'email', 'geo']\n",
    "log2 = log[['user_id', 'time']].dropna(axis = 1)\n",
    "log2['bet'] = log['bet']\n",
    "log2['win'] = log['win']"
   ]
  },
  {
   "cell_type": "code",
   "execution_count": 7,
   "metadata": {},
   "outputs": [],
   "source": [
    "log2=log.drop_duplicates(subset=('user_id', 'time'))\n",
    "log2"
   ]
  },
  {
   "cell_type": "code",
   "execution_count": 9,
   "metadata": {},
   "outputs": [
    {
     "data": {
      "text/plain": [
       "0      1.0\n",
       "1      1.0\n",
       "2      1.0\n",
       "3      1.0\n",
       "4      1.0\n",
       "      ... \n",
       "995    4.0\n",
       "996    NaN\n",
       "997    NaN\n",
       "998    NaN\n",
       "999    NaN\n",
       "Name: time, Length: 1000, dtype: float64"
      ]
     },
     "execution_count": 9,
     "metadata": {},
     "output_type": "execute_result"
    }
   ],
   "source": [
    "#log['time'] = log.time.apply(lambda x: None if x != x else x[1:])\n",
    "log.time = pd.to_datetime(log.time)\n",
    "days = log.time.dt.dayofweek.value_counts()\n",
    "log['time'].apply(lambda pandas_dataframe: pandas_dataframe.month)\n"
   ]
  },
  {
   "cell_type": "code",
   "execution_count": 10,
   "metadata": {},
   "outputs": [
    {
     "data": {
      "text/plain": [
       "night      220\n",
       "morning    219\n",
       "day        195\n",
       "evening    188\n",
       "Name: time, dtype: int64"
      ]
     },
     "execution_count": 10,
     "metadata": {},
     "output_type": "execute_result"
    }
   ],
   "source": [
    "def daytime(x):\n",
    "    if x in range(0,5):\n",
    "        return \"night\"\n",
    "    if x in range(6,11):\n",
    "        return \"morning\"\n",
    "    if x in range(12,17):\n",
    "        return \"day\"\n",
    "    if x in range(18,23):\n",
    "        return \"evening\"\n",
    "    \n",
    "daytime = log.time.dt.hour.apply(daytime)\n",
    "daytime.value_counts()\n"
   ]
  },
  {
   "cell_type": "code",
   "execution_count": 11,
   "metadata": {
    "collapsed": true
   },
   "outputs": [
    {
     "data": {
      "text/html": [
       "<div>\n",
       "<style scoped>\n",
       "    .dataframe tbody tr th:only-of-type {\n",
       "        vertical-align: middle;\n",
       "    }\n",
       "\n",
       "    .dataframe tbody tr th {\n",
       "        vertical-align: top;\n",
       "    }\n",
       "\n",
       "    .dataframe thead th {\n",
       "        text-align: right;\n",
       "    }\n",
       "</style>\n",
       "<table border=\"1\" class=\"dataframe\">\n",
       "  <thead>\n",
       "    <tr style=\"text-align: right;\">\n",
       "      <th></th>\n",
       "      <th>user_id</th>\n",
       "      <th>time</th>\n",
       "      <th>bet</th>\n",
       "      <th>win</th>\n",
       "      <th>hour</th>\n",
       "    </tr>\n",
       "  </thead>\n",
       "  <tbody>\n",
       "    <tr>\n",
       "      <th>14</th>\n",
       "      <td>Запись пользователя № - user_917</td>\n",
       "      <td>2019-01-02 8:57:36</td>\n",
       "      <td>145732.0</td>\n",
       "      <td>1987653.0</td>\n",
       "      <td>8</td>\n",
       "    </tr>\n",
       "    <tr>\n",
       "      <th>29</th>\n",
       "      <td>Запись пользователя № - user_942</td>\n",
       "      <td>2019-01-04 13:59:42</td>\n",
       "      <td>1678321.0</td>\n",
       "      <td>9876543.0</td>\n",
       "      <td>13</td>\n",
       "    </tr>\n",
       "    <tr>\n",
       "      <th>151</th>\n",
       "      <td>Запись пользователя № - user_982</td>\n",
       "      <td>2019-01-16 21:54:22</td>\n",
       "      <td>100.0</td>\n",
       "      <td>4749.0</td>\n",
       "      <td>21</td>\n",
       "    </tr>\n",
       "    <tr>\n",
       "      <th>189</th>\n",
       "      <td>Запись пользователя № - user_964</td>\n",
       "      <td>2019-01-21 18:34:44</td>\n",
       "      <td>200.0</td>\n",
       "      <td>4667.0</td>\n",
       "      <td>18</td>\n",
       "    </tr>\n",
       "    <tr>\n",
       "      <th>205</th>\n",
       "      <td>Запись пользователя № - user_931</td>\n",
       "      <td>2019-01-22 5:26:59</td>\n",
       "      <td>300.0</td>\n",
       "      <td>4319.0</td>\n",
       "      <td>5</td>\n",
       "    </tr>\n",
       "    <tr>\n",
       "      <th>...</th>\n",
       "      <td>...</td>\n",
       "      <td>...</td>\n",
       "      <td>...</td>\n",
       "      <td>...</td>\n",
       "      <td>...</td>\n",
       "    </tr>\n",
       "    <tr>\n",
       "      <th>967</th>\n",
       "      <td>Запись пользователя № - user_975</td>\n",
       "      <td>2019-04-19 22:25:15</td>\n",
       "      <td>1000.0</td>\n",
       "      <td>6108.0</td>\n",
       "      <td>22</td>\n",
       "    </tr>\n",
       "    <tr>\n",
       "      <th>971</th>\n",
       "      <td>Запись пользователя № - user_912</td>\n",
       "      <td>2019-04-20 10:35:49</td>\n",
       "      <td>10554.0</td>\n",
       "      <td>31799.0</td>\n",
       "      <td>10</td>\n",
       "    </tr>\n",
       "    <tr>\n",
       "      <th>972</th>\n",
       "      <td>Запись пользователя № - user_926</td>\n",
       "      <td>2019-04-20 10:35:50</td>\n",
       "      <td>10354.0</td>\n",
       "      <td>30244.0</td>\n",
       "      <td>10</td>\n",
       "    </tr>\n",
       "    <tr>\n",
       "      <th>976</th>\n",
       "      <td>Запись пользователя № - user_970</td>\n",
       "      <td>2019-04-20 10:35:54</td>\n",
       "      <td>10354.0</td>\n",
       "      <td>30691.0</td>\n",
       "      <td>10</td>\n",
       "    </tr>\n",
       "    <tr>\n",
       "      <th>991</th>\n",
       "      <td>Запись пользователя № - user_965</td>\n",
       "      <td>2019-04-20 12:55:41</td>\n",
       "      <td>800.0</td>\n",
       "      <td>6927.0</td>\n",
       "      <td>12</td>\n",
       "    </tr>\n",
       "  </tbody>\n",
       "</table>\n",
       "<p>133 rows × 5 columns</p>\n",
       "</div>"
      ],
      "text/plain": [
       "                              user_id                 time        bet  \\\n",
       "14   Запись пользователя № - user_917   2019-01-02 8:57:36   145732.0   \n",
       "29   Запись пользователя № - user_942  2019-01-04 13:59:42  1678321.0   \n",
       "151  Запись пользователя № - user_982  2019-01-16 21:54:22      100.0   \n",
       "189  Запись пользователя № - user_964  2019-01-21 18:34:44      200.0   \n",
       "205  Запись пользователя № - user_931   2019-01-22 5:26:59      300.0   \n",
       "..                                ...                  ...        ...   \n",
       "967  Запись пользователя № - user_975  2019-04-19 22:25:15     1000.0   \n",
       "971  Запись пользователя № - user_912  2019-04-20 10:35:49    10554.0   \n",
       "972  Запись пользователя № - user_926  2019-04-20 10:35:50    10354.0   \n",
       "976  Запись пользователя № - user_970  2019-04-20 10:35:54    10354.0   \n",
       "991  Запись пользователя № - user_965  2019-04-20 12:55:41      800.0   \n",
       "\n",
       "           win  hour  \n",
       "14   1987653.0     8  \n",
       "29   9876543.0    13  \n",
       "151     4749.0    21  \n",
       "189     4667.0    18  \n",
       "205     4319.0     5  \n",
       "..         ...   ...  \n",
       "967     6108.0    22  \n",
       "971    31799.0    10  \n",
       "972    30244.0    10  \n",
       "976    30691.0    10  \n",
       "991     6927.0    12  \n",
       "\n",
       "[133 rows x 5 columns]"
      ]
     },
     "execution_count": 11,
     "metadata": {},
     "output_type": "execute_result"
    }
   ],
   "source": [
    "log = pd.read_csv('log.csv', header=None)\n",
    "log.columns = ['user_id', 'time', 'bet', 'win']\n",
    "log = log.dropna(axis=0)\n",
    "log['time'] = log['time'].apply(lambda x: x[1:])\n",
    "time = pd.to_datetime(log['time'])\n",
    "log['hour'] = time.apply(lambda x: x.hour)\n",
    "#log['hour'] = log.time.dt.hour\n",
    "log"
   ]
  },
  {
   "cell_type": "code",
   "execution_count": 12,
   "metadata": {},
   "outputs": [
    {
     "data": {
      "text/plain": [
       "-3372.743515850144"
      ]
     },
     "execution_count": 12,
     "metadata": {},
     "output_type": "execute_result"
    }
   ],
   "source": [
    "import pandas as pd\n",
    "log = pd.read_csv('log.csv', header=None)\n",
    "log.columns = ['user_id', 'time', 'bet', 'win']\n",
    "log.bet = log['bet'].fillna(0)  \n",
    "def fillna_win(row):    \n",
    "    if  row.win>0:\n",
    "        return  row.win \n",
    "    else:\n",
    "        return 0\n",
    "new_win = log.apply(lambda row: fillna_win(row),  axis = 1)      \n",
    "log['win'] = new_win \n",
    "log['net'] = log.win - log.bet\n",
    "percent = sum(log.net<0)/sum(log.bet>0)*100\n",
    "log.net[(log.net<0)].mean()\n",
    "\n"
   ]
  },
  {
   "cell_type": "code",
   "execution_count": null,
   "metadata": {},
   "outputs": [],
   "source": [
    "log = pd.read_csv('log.csv', header=None)\n",
    "log.columns = ['user_id', 'time', 'bet', 'win']\n",
    "log.bet = log['bet'].fillna(0) \n",
    "min_bet_amount = log.bet[(log.bet>0)].min()\n",
    "min_bet_amount = log.bet[(log.bet==100)].count()\n",
    "min_bet_amount"
   ]
  },
  {
   "cell_type": "code",
   "execution_count": null,
   "metadata": {},
   "outputs": [],
   "source": [
    "us.user_id = us.user_id.apply(lambda x: x.lower())  \n",
    "log = log[log.user_id != '#error']  \n",
    "log.bet = log['bet'].fillna(0)  \n",
    "def fillna_win(row):    \n",
    "    if  row.win>0:\n",
    "        return  row.win \n",
    "    else:\n",
    "        return 0\n",
    "new_win = log.apply(lambda row: fillna_win(row),  axis = 1)      \n",
    "log['win'] = new_win \n",
    "log['net'] = log.win - log.bet\n",
    "#log.user_id = log.user_id.str.split(' - ').apply(lambda x: x[1])  \n",
    "ds = pd.merge(log, us, on='user_id')  \n",
    "a = ds[ds.bet>0].groupby('geo').bet.mean().max()\n",
    "b = ds[ds.bet>0].groupby('geo').bet.mean().min()\n",
    "a/b\n"
   ]
  },
  {
   "cell_type": "code",
   "execution_count": null,
   "metadata": {},
   "outputs": [],
   "source": [
    "ds[ds.bet==0].groupby(['user_id']).bet.count().sum()/ds[ds.bet==0].groupby(['user_id']).bet.count().count()"
   ]
  },
  {
   "cell_type": "code",
   "execution_count": null,
   "metadata": {},
   "outputs": [],
   "source": [
    "usersWithBet = ds.groupby('user_id').bet.mean().notnull()\n",
    "usersList = usersWithBet[usersWithBet == True].index\n",
    "filteredDF = ds[(ds.bet == 0) & (ds.user_id.isin(usersList))].groupby('user_id')\n",
    "int(filteredDF.bet.value_counts().sum() / filteredDF.ngroups)"
   ]
  },
  {
   "cell_type": "code",
   "execution_count": null,
   "metadata": {},
   "outputs": [],
   "source": [
    "#ds.time = ds.time.apply(lambda x: None if x != x else x[1:])\n",
    "ds= ds.dropna(axis = 0, subset = ['time', 'user_id', 'bet'])\n",
    "ds.time = pd.to_datetime(ds.time)\n",
    "uList = ds.groupby('user_id').bet.mean()[ds.groupby('user_id').bet.sum() > 0].index\n",
    "min_time = ds[(ds.user_id.isin(uList)) & (ds.bet==0)].groupby('user_id').time.min()\n",
    "#print(ds.groupby('user_id').bet.mean()[ds.groupby('user_id').bet.sum() > 0])\n",
    "min_bet_time = ds[(ds.bet > 0) & (ds.user_id.isin(usersList))].groupby('user_id').time.min()-min_time\n",
    "print(min_bet_time.mean())\n"
   ]
  },
  {
   "cell_type": "code",
   "execution_count": 12,
   "metadata": {},
   "outputs": [],
   "source": [
    "log = pd.read_csv('log.csv', header = None)\n",
    "log.columns = ['user_id', 'time', 'bet', 'win']\n",
    "us = pd.read_csv('users.csv', encoding= 'koi8_r', sep=\"\\t\")\n",
    "us.columns = ['user_id', 'email', 'geo']\n",
    "us.user_id = us.user_id.apply(lambda x: x.lower())  \n",
    "log = log[log.user_id != '#error'] \n",
    "log.user_id = log.user_id.str.split(' - ').apply(lambda x: x[1])  \n",
    "# log.bet = log['bet'].fillna(0)  \n",
    "ds = pd.merge(log, us, on='user_id')  \n",
    "sample2 = ds.groupby('geo').user_id.count()"
   ]
  }
 ],
 "metadata": {
  "kernelspec": {
   "display_name": "Python 3",
   "language": "python",
   "name": "python3"
  },
  "language_info": {
   "codemirror_mode": {
    "name": "ipython",
    "version": 3
   },
   "file_extension": ".py",
   "mimetype": "text/x-python",
   "name": "python",
   "nbconvert_exporter": "python",
   "pygments_lexer": "ipython3",
   "version": "3.7.6"
  }
 },
 "nbformat": 4,
 "nbformat_minor": 4
}
