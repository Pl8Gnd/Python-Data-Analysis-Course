{
 "cells": [
  {
   "cell_type": "code",
   "execution_count": null,
   "metadata": {},
   "outputs": [],
   "source": [
    "import pandas as pd\n",
    "pd.set_option('display.max_columns', None)  \n",
    "tab = pd.read_excel('Fig3-1.xls', header=None)  \n",
    "# with pd.ExcelFile('path_to_file.xls') as xls:  \n",
    "#     data['Sheet1'] = pd.read_excel(xls, 'Sheet1', na_values=['NA'])  \n",
    "#     data['Sheet2'] = pd.read_excel(xls, 'Sheet2') \n",
    "# data = pd.read_excel('path_to_file.xls', ['Sheet1', 'Sheet2'])  "
   ]
  },
  {
   "cell_type": "code",
   "execution_count": null,
   "metadata": {},
   "outputs": [],
   "source": [
    "data = pd.read_excel(\"prices.xls\", header=None, skiprows=2)\n",
    "data.dropna(how='all')\n",
    "data.iloc[0, 4][2:9]\n",
    "table = data.iloc[6:8, :].dropna(axis=1, how='all')\n",
    "\n",
    "# table.to_excel(\"table.xls\")  \n",
    "\n",
    "# writer = pd.ExcelWriter('test.xlsx')  \n",
    "# table.to_excel(writer, index=False, sheet_name='Table')  \n",
    "# writer.save()  \n",
    "\n",
    "workbook = writer.book  \n",
    "worksheet = writer.sheets['Table'] \n",
    "money_fmt = workbook.add_format({'bold': True})  \n",
    "name_fmt = workbook.add_format({'color': 'red'})  \n",
    "  \n",
    "worksheet.set_column('E:F', 20, money_fmt)  \n",
    "worksheet.set_column(1, 1, 20, name_fmt)  "
   ]
  },
  {
   "cell_type": "code",
   "execution_count": null,
   "metadata": {},
   "outputs": [],
   "source": [
    "import xml.etree.ElementTree as ET \n",
    "tree = ET.parse('menu.xml')    \n",
    "root = tree.getroot() \n",
    "\n",
    "root[0].attrib\n",
    "root[0][0].text\n",
    "root[0][1].tag\n",
    "\n",
    "for elem in root:  \n",
    "    for subelem in elem:  \n",
    "        print(elem.attrib['name'], subelem.tag, subelem.text)  \n",
    "    print() \n",
    "    \n",
    "len(root[1])"
   ]
  },
  {
   "cell_type": "code",
   "execution_count": null,
   "metadata": {},
   "outputs": [],
   "source": [
    "df_index = ['name', 'price', 'weight', 'class']  \n",
    "df = pd.DataFrame(columns=df_index)  \n",
    "  \n",
    "for elem in root:  \n",
    "    elements = [elem.get('name'), elem[0].text, elem[1].text, elem[2].text]  \n",
    "    df = df.append(pd.Series(elements, index=df_index), ignore_index=True) \n",
    "df\n",
    " "
   ]
  }
 ],
 "metadata": {
  "kernelspec": {
   "display_name": "Python 3",
   "language": "python",
   "name": "python3"
  },
  "language_info": {
   "codemirror_mode": {
    "name": "ipython",
    "version": 3
   },
   "file_extension": ".py",
   "mimetype": "text/x-python",
   "name": "python",
   "nbconvert_exporter": "python",
   "pygments_lexer": "ipython3",
   "version": "3.7.6"
  }
 },
 "nbformat": 4,
 "nbformat_minor": 4
}
