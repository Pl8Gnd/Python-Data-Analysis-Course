{
 "cells": [
  {
   "cell_type": "code",
   "execution_count": null,
   "metadata": {},
   "outputs": [],
   "source": [
    "import pandas as pd\n",
    "import json  \n",
    "from pprint import pprint  \n",
    "\n",
    "with open('recipes.json') as f:\n",
    "    recipes = json.load(f)\n",
    "# pprint(recipes)\n",
    "\n",
    "recipes[0]['id']\n",
    "\n",
    "for recipe in recipes:  \n",
    "    if recipe['id'] == 23629:  \n",
    "        print(recipe['ingredients'])  \n",
    "        break   \n",
    "len(recipes[-1]['ingredients'])   "
   ]
  },
  {
   "cell_type": "code",
   "execution_count": null,
   "metadata": {},
   "outputs": [],
   "source": [
    "cuisines = []  \n",
    "for recipe in recipes:  \n",
    "    if not(recipe['cuisine'] in cuisines): \n",
    "        cuisines.append(recipe['cuisine']) \n",
    "len(cuisines)\n",
    "\n",
    "cuisines = set()  \n",
    "for recipe in recipes:  \n",
    "    cuisines.add(recipe['cuisine']) \n",
    "len(cuisines)"
   ]
  },
  {
   "cell_type": "code",
   "execution_count": null,
   "metadata": {},
   "outputs": [],
   "source": [
    "cuisines = set()  \n",
    "for recipe in recipes:\n",
    "    if recipe['cuisine'] == 'russian':\n",
    "        for item in recipe['ingredients']:\n",
    "            cuisines.add(item) "
   ]
  },
  {
   "cell_type": "code",
   "execution_count": null,
   "metadata": {},
   "outputs": [],
   "source": [
    "ingredients = set()\n",
    "food = {}   \n",
    "for recipe in recipes:\n",
    "    for ing in recipe['ingredients']:\n",
    "        ingredients.add(ing) \n",
    "# len(ingredients)\n",
    "\n",
    "for item in ingredients: \n",
    "    food[item] = 0 \n",
    "for recipe in recipes:   \n",
    "    for item in recipe['ingredients']:  \n",
    "        food[item] += 1 \n",
    "        \n",
    "clones = set()\n",
    "for i in food.items():\n",
    "    if i[1]==1:\n",
    "        clones.add(i)\n",
    "len(clones)"
   ]
  },
  {
   "cell_type": "code",
   "execution_count": 2,
   "metadata": {},
   "outputs": [],
   "source": [
    "df = pd.DataFrame(recipes)\n",
    "def find_item(cell):\n",
    "    if item in cell:\n",
    "        return 1\n",
    "    return 0\n",
    "\n",
    "for item in ingredients:\n",
    "    df[item] = df['ingredients'].apply(find_item)\n",
    "    \n",
    "df['ingredients'] = df['ingredients'].apply(lambda x: len(x))\n",
    "df.to_csv('recipes.csv', index = False)"
   ]
  },
  {
   "cell_type": "code",
   "execution_count": 20,
   "metadata": {},
   "outputs": [],
   "source": [
    "df = pd.read_csv('recipes.csv')\n",
    "new_recipes = []\n",
    "ids = [i for i in df.id]\n",
    "ingredients = [i for i in df.columns[3:]]\n",
    "\n",
    "def make_list(row):\n",
    "    return [x for x in ingredients if row[x].iloc[0]]\n",
    "\n",
    "# def make_list(x):    \n",
    "#     res_lst = []\n",
    "#     for i in ingredients:\n",
    "#         if x[i].iloc[0]>0:\n",
    "#             res_lst.append(i)\n",
    "#         if len(res_lst) == x['ingredients'].iloc[0]:\n",
    "#             break;\n",
    "#     return res_lst\n",
    "\n",
    "for current_id in ids:\n",
    "    cuisine = df[df['id'] == current_id]['cuisine'].iloc[0]\n",
    "    current_ingredients = make_list(df[df['id'] == current_id])\n",
    "    current_recipe = {'cuisine': cuisine, 'id': int(current_id), 'ingredients': current_ingredients}\n",
    "    new_recipes.append(current_recipe)\n",
    "\n",
    "new_recipes = json.dumps(new_recipes)\n",
    "with open(\"new_recipes.json\", \"w\") as write_file:\n",
    "    write_file.write(new_recipes)\n",
    "    \n",
    "# with open(\"new_recipes.json.json\", \"w\") as write_file:\n",
    "#     json.dump(new_recipes, write_file)"
   ]
  }
 ],
 "metadata": {
  "kernelspec": {
   "display_name": "Python 3",
   "language": "python",
   "name": "python3"
  },
  "language_info": {
   "codemirror_mode": {
    "name": "ipython",
    "version": 3
   },
   "file_extension": ".py",
   "mimetype": "text/x-python",
   "name": "python",
   "nbconvert_exporter": "python",
   "pygments_lexer": "ipython3",
   "version": "3.7.6"
  }
 },
 "nbformat": 4,
 "nbformat_minor": 4
}
