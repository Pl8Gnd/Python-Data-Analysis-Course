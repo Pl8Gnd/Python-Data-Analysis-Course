{
 "cells": [
  {
   "cell_type": "code",
   "execution_count": null,
   "metadata": {},
   "outputs": [],
   "source": [
    "from datetime import datetime, timedelta\n",
    "\n",
    "date_string = '2019-07-07T18:59:33'\n",
    "dt = datetime.strptime(date_string, '%d.%m.%Y %H:%M')\n",
    "dt = datetime(2019, 4, 1, 18, 59, 44)\n",
    "a = dt.strftime('%Y-%m-%d')\n",
    "a"
   ]
  },
  {
   "cell_type": "code",
   "execution_count": null,
   "metadata": {},
   "outputs": [],
   "source": [
    "from datetime import datetime\n",
    "date_string = '2019-07-07T18:59:33'\n",
    "a = datetime.strptime(date_string, '%Y-%m-%dT%H:%M:%S')\n",
    "date_format = a.strftime('%d.%m.%Y')\n",
    "date_format"
   ]
  },
  {
   "cell_type": "code",
   "execution_count": null,
   "metadata": {},
   "outputs": [],
   "source": [
    "dt_list = ['2019-07-07T18:59:06', '2019-07-07T19:00:02', '2019-07-07T19:01:04']\n",
    "datetime_list = []\n",
    "for i in dt_list:\n",
    "        datetime_list.append(datetime.strptime(i, '%Y-%m-%dT%H:%M:%S'))\n",
    "datetime_list"
   ]
  },
  {
   "cell_type": "code",
   "execution_count": null,
   "metadata": {},
   "outputs": [],
   "source": [
    "report_seconds = []\n",
    "for i in datetime_list:\n",
    "    report_seconds.append(i.second)\n",
    "\n",
    "total_time = sum(report_seconds)\n",
    "total_time\n"
   ]
  },
  {
   "cell_type": "code",
   "execution_count": null,
   "metadata": {},
   "outputs": [],
   "source": [
    "start_date = '2019-01-01'\n",
    "end_date = '2019-01-07'\n",
    "current_day = start_date_datetime\n",
    "start_date_datetime = dt.strptime(start_date, '%Y-%m-%d')\n",
    "end_date_datetime = dt.strptime(end_date, '%Y-%m-%d')\n",
    "current_day = start_date_datetime\n",
    "while current_day <= end_date_datetime:\n",
    "    print(current_day.strftime('%Y-%m-%d'))\n",
    "    current_day += timedelta(days=1)\n"
   ]
  },
  {
   "cell_type": "code",
   "execution_count": null,
   "metadata": {},
   "outputs": [],
   "source": [
    "from datetime import tzinfo, timedelta, datetime, timezone\n",
    "class UTC0530(tzinfo):\n",
    "    def __init__(self, offset=19800, name=None):\n",
    "        self.offset = timedelta(seconds=offset)\n",
    "        self.name = name or self.__class__.__name__\n",
    "    def utcoffset(self, dt):\n",
    "        return self.offset\n",
    "    def tzname(self, dt):\n",
    "        return self.name\n",
    "    def dst(self, dt):\n",
    "        return timedelta(0)\n",
    "a = datetime.now(timezone.utc)\n",
    "print(a)\n",
    "b = datetime.now(UTC0530())\n",
    "print(b)\n",
    "print(b.utcoffset())\n",
    "print(b.tzname())\n",
    "print(b.dst())\n",
    "\n"
   ]
  }
 ],
 "metadata": {
  "kernelspec": {
   "display_name": "Python 3",
   "language": "python",
   "name": "python3"
  },
  "language_info": {
   "codemirror_mode": {
    "name": "ipython",
    "version": 3
   },
   "file_extension": ".py",
   "mimetype": "text/x-python",
   "name": "python",
   "nbconvert_exporter": "python",
   "pygments_lexer": "ipython3",
   "version": "3.7.6"
  }
 },
 "nbformat": 4,
 "nbformat_minor": 4
}
