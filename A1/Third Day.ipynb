{
 "cells": [
  {
   "cell_type": "code",
   "execution_count": 8,
   "metadata": {
    "scrolled": true
   },
   "outputs": [
    {
     "name": "stdout",
     "output_type": "stream",
     "text": [
      "P\n",
      "a\n",
      "G\n",
      "d\n"
     ]
    }
   ],
   "source": [
    "word = 'PlayGnd'\n",
    "for i, letter in enumerate(word):\n",
    "    if i%2 == 0:\n",
    "        print(letter)"
   ]
  },
  {
   "cell_type": "code",
   "execution_count": 7,
   "metadata": {},
   "outputs": [
    {
     "name": "stdout",
     "output_type": "stream",
     "text": [
      "Number 30 even\n",
      "Number 31 not even\n",
      "Number 32 even\n",
      "Number 33 not even\n",
      "Number 34 even\n",
      "Number 35 not even\n",
      "Number 36 even\n",
      "Number 37 not even\n",
      "Number 38 even\n",
      "Number 39 not even\n",
      "Number 40 even\n",
      "Number 41 not even\n"
     ]
    }
   ],
   "source": [
    "for i in range(30, 42): \n",
    "    if i%2 == 0:\n",
    "        print('Number', i, 'even')\n",
    "    else:\n",
    "        print('Number', i, 'not even')"
   ]
  },
  {
   "cell_type": "code",
   "execution_count": 6,
   "metadata": {},
   "outputs": [
    {
     "name": "stdout",
     "output_type": "stream",
     "text": [
      "2013 not leap year\n",
      "2014 not leap year\n",
      "2015 not leap year\n",
      "2016 leap year\n",
      "2017 not leap year\n",
      "2018 not leap year\n",
      "2019 not leap year\n",
      "2020 leap year\n"
     ]
    }
   ],
   "source": [
    "year_1 = 2013\n",
    "year_2 = 2020\n",
    "for i in range(year_1, year_2+1):\n",
    "    if i%4==0:\n",
    "        print(i, \"leap year\")\n",
    "    else:\n",
    "        print(i, \"not leap year\")\n",
    "    \n"
   ]
  },
  {
   "cell_type": "code",
   "execution_count": 4,
   "metadata": {},
   "outputs": [
    {
     "name": "stdout",
     "output_type": "stream",
     "text": [
      "a\n",
      "a\n",
      "e\n"
     ]
    }
   ],
   "source": [
    "word = 'Adaptable'\n",
    "vov = 'a', 'e', 'i', 'o', 'q', 'u','y'\n",
    "for i in(word):\n",
    "    if i in vov:\n",
    "        print(i)\n",
    "   "
   ]
  },
  {
   "cell_type": "code",
   "execution_count": 1,
   "metadata": {
    "scrolled": false
   },
   "outputs": [
    {
     "name": "stdout",
     "output_type": "stream",
     "text": [
      "Letter 1 in this name - J\n",
      "Letter 2 in this name - o\n",
      "Letter 3 in this name - h\n",
      "Letter 4 in this name - n\n"
     ]
    }
   ],
   "source": [
    "name = 'John'\n",
    "for i, letter in enumerate(name):\n",
    "    if i>=0:\n",
    "        print('Letter',i+1 ,\"in this name -\",letter)"
   ]
  },
  {
   "cell_type": "code",
   "execution_count": 2,
   "metadata": {},
   "outputs": [
    {
     "name": "stdout",
     "output_type": "stream",
     "text": [
      "25\n",
      "27\n",
      "30\n",
      "33\n",
      "35\n",
      "36\n",
      "39\n",
      "40\n",
      "42\n",
      "45\n"
     ]
    }
   ],
   "source": [
    "num_1 = 25\n",
    "num_2 = 45\n",
    "for i in range(num_1, num_2+1):\n",
    "    if i%3==0 or i%5==0:\n",
    "        print(i)\n",
    "    elif num_1<0 or num_2<num_1:\n",
    "        print( \"Wrong number set\" )\n"
   ]
  },
  {
   "cell_type": "code",
   "execution_count": 1,
   "metadata": {},
   "outputs": [
    {
     "name": "stdout",
     "output_type": "stream",
     "text": [
      "25\n",
      "27\n",
      "33\n",
      "35\n",
      "39\n",
      "45\n"
     ]
    }
   ],
   "source": [
    "num_1 = 25\n",
    "num_2 = 45\n",
    "if num_1<0 or num_2<num_1:\n",
    "    print( \"Wrong number set\")\n",
    "else:\n",
    "    for i in range(num_1,num_2+1):\n",
    "        if (i%2)!=0:\n",
    "            if (i%3)==0 or (i%5)==0:\n",
    "                print(i)"
   ]
  },
  {
   "cell_type": "code",
   "execution_count": 223,
   "metadata": {},
   "outputs": [
    {
     "name": "stdout",
     "output_type": "stream",
     "text": [
      "1\n",
      "2\n",
      "3\n",
      "4\n",
      "6\n",
      "7\n",
      "12\n",
      "14\n",
      "21\n",
      "28\n",
      "42\n",
      "84\n"
     ]
    }
   ],
   "source": [
    "number = 84\n",
    "for i in range(1, number+1):\n",
    "    if number%i==0:\n",
    "        print(i)"
   ]
  },
  {
   "cell_type": "code",
   "execution_count": 245,
   "metadata": {},
   "outputs": [
    {
     "name": "stdout",
     "output_type": "stream",
     "text": [
      "12\n",
      "19\n",
      "38\n"
     ]
    }
   ],
   "source": [
    "num_1 = 12\n",
    "num_2 = 38\n",
    "for i in range(num_1, num_2+1):\n",
    "    if num_1%i==0 or num_2%i==0 and num_1!=1 and num_2!=1:\n",
    "        print(i)\n",
    "\n",
    "    "
   ]
  },
  {
   "cell_type": "code",
   "execution_count": 247,
   "metadata": {},
   "outputs": [
    {
     "name": "stdout",
     "output_type": "stream",
     "text": [
      "2\n"
     ]
    }
   ],
   "source": [
    "num_1 = 12\n",
    "num_2 = 38 \n",
    "for x in range(2, num_1 + 1):\n",
    "    if num_1 % x == 0 and num_2 % x ==0:\n",
    "        print(x)"
   ]
  },
  {
   "cell_type": "code",
   "execution_count": 3,
   "metadata": {},
   "outputs": [
    {
     "name": "stdout",
     "output_type": "stream",
     "text": [
      "1 1 1\n",
      "2 4 8\n",
      "3 9 27\n",
      "4 16 64\n",
      "5 25 125\n",
      "6 36 216\n",
      "7 49 343\n",
      "8 64 512\n",
      "9 81 729\n",
      "10 100 1000\n"
     ]
    }
   ],
   "source": [
    "for i in range(1, 10+1):\n",
    "    print(i, i**2, i**3)"
   ]
  },
  {
   "cell_type": "code",
   "execution_count": 248,
   "metadata": {},
   "outputs": [
    {
     "name": "stdout",
     "output_type": "stream",
     "text": [
      "55\n"
     ]
    }
   ],
   "source": [
    "n = 10\n",
    "fib1 = fib2 = 1\n",
    "for i in range(2,n):\n",
    "    if i!=1 or i!=2:\n",
    "        fib1, fib2 = fib2, fib1 + fib2\n",
    "print(fib2)"
   ]
  },
  {
   "cell_type": "code",
   "execution_count": 253,
   "metadata": {},
   "outputs": [
    {
     "name": "stdout",
     "output_type": "stream",
     "text": [
      "15 X 1 = 15\n",
      "15 X 2 = 30\n",
      "15 X 3 = 45\n",
      "15 X 4 = 60\n",
      "15 X 5 = 75\n",
      "15 X 6 = 90\n",
      "15 X 7 = 105\n",
      "15 X 8 = 120\n",
      "15 X 9 = 135\n",
      "15 X 10 = 150\n"
     ]
    }
   ],
   "source": [
    "number = 15\n",
    "for i in range(1,10+1):\n",
    "    z=(number)*i \n",
    "    print(number, \"X\", i, \"=\", z)"
   ]
  }
 ],
 "metadata": {
  "kernelspec": {
   "display_name": "Python 3",
   "language": "python",
   "name": "python3"
  },
  "language_info": {
   "codemirror_mode": {
    "name": "ipython",
    "version": 3
   },
   "file_extension": ".py",
   "mimetype": "text/x-python",
   "name": "python",
   "nbconvert_exporter": "python",
   "pygments_lexer": "ipython3",
   "version": "3.7.6"
  }
 },
 "nbformat": 4,
 "nbformat_minor": 4
}
