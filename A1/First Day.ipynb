{
 "cells": [
  {
   "cell_type": "code",
   "execution_count": 13,
   "metadata": {},
   "outputs": [
    {
     "data": {
      "text/plain": [
       "4.0"
      ]
     },
     "execution_count": 13,
     "metadata": {},
     "output_type": "execute_result"
    }
   ],
   "source": [
    "((67+33)/25)\n",
    "\n",
    "4+5*60-17+65/4\n",
    "\n",
    "303.25**(1/2)\n",
    "\n",
    "6.996+45*((13/2)**2)+2*(18**(1/2))\n",
    "\n",
    "((((9**(1/2))**3)**2)**2)/((-2)**-3)\n",
    "\n",
    "(1267-20*(((5**3)/2)**2))/((8**5)*6)\n",
    "\n",
    "-76858.0/8**5*(36**(1/2))\n",
    "\n",
    "37.5**2\n",
    "\n",
    "1267-1406.25*20\n",
    "\n",
    "(8**5)*6\n",
    "\n",
    "642/196608"
   ]
  },
  {
   "cell_type": "code",
   "execution_count": 1,
   "metadata": {},
   "outputs": [],
   "source": [
    "employees_count = 125\n",
    "room_temp=20.4\n",
    "agent_name = 7.0\n",
    "agent_name = int(float())\n",
    "\n",
    "type(agent_name)\n",
    "\n",
    "type(str(int(float('2.4'))))"
   ]
  },
  {
   "cell_type": "code",
   "execution_count": 3,
   "metadata": {},
   "outputs": [
    {
     "name": "stdout",
     "output_type": "stream",
     "text": [
      "You entered a number that when multiplied by 3 gives 69\n",
      "Enter your name: \n",
      "Jerry\n",
      "Enter your name: \n",
      "Jerry\n",
      "Your name is today Jerry\n"
     ]
    }
   ],
   "source": [
    "a = 23\n",
    "print('You entered a number that when multiplied by 3 gives',a*3)\n",
    "\n",
    "user_name = input('Enter your name: \\n')\n",
    "\n",
    "name = input('Enter your name: \\n')\n",
    "print('Your name is today', name)"
   ]
  },
  {
   "cell_type": "code",
   "execution_count": 2,
   "metadata": {},
   "outputs": [
    {
     "name": "stdout",
     "output_type": "stream",
     "text": [
      "8\n",
      "8.88748820522211\n",
      "Hello! 6 7776\n"
     ]
    }
   ],
   "source": [
    "word = 'Charming'\n",
    "print(len(word))\n",
    "\n",
    "string_1 = 'Hello, world!'\n",
    "string_2 = 'Python <3'\n",
    "string_3 = 'qwerty'\n",
    "print((len(string_1)*len(string_2)*len(string_3))**(1/3))\n",
    "\n",
    "string = 'Hello!'\n",
    "power = 5\n",
    "print((string),len(string),(len(string)**power))"
   ]
  },
  {
   "cell_type": "code",
   "execution_count": 32,
   "metadata": {},
   "outputs": [
    {
     "name": "stdout",
     "output_type": "stream",
     "text": [
      "2\n"
     ]
    }
   ],
   "source": [
    "a = 117\n",
    "b = 23\n",
    "print(a%b) \n",
    "\n",
    "weight=80\n",
    "height = 1.8\n",
    "print(weight/(height)**2) \n",
    "\n",
    "a = 270\n",
    "b = 12.8\n",
    "print(((a+b)/2)**(1/3))\n",
    "\n",
    "x = 100500\n",
    "print(6.966+45*((x/2)**2)+2*x)\n",
    "\n"
   ]
  }
 ],
 "metadata": {
  "kernelspec": {
   "display_name": "Python 3",
   "language": "python",
   "name": "python3"
  },
  "language_info": {
   "codemirror_mode": {
    "name": "ipython",
    "version": 3
   },
   "file_extension": ".py",
   "mimetype": "text/x-python",
   "name": "python",
   "nbconvert_exporter": "python",
   "pygments_lexer": "ipython3",
   "version": "3.7.6"
  }
 },
 "nbformat": 4,
 "nbformat_minor": 4
}
