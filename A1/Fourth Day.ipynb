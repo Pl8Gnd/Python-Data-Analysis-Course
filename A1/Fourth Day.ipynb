{
 "cells": [
  {
   "cell_type": "code",
   "execution_count": 12,
   "metadata": {},
   "outputs": [
    {
     "name": "stdout",
     "output_type": "stream",
     "text": [
      "4\n"
     ]
    }
   ],
   "source": [
    "num_1 = 1812\n",
    "num_2 = 2500\n",
    "for x in range(num_1, 1, -1):\n",
    "    if num_1 % x == 0 and num_2 % x ==0:\n",
    "        print(x)\n",
    "        break\n",
    "else:\n",
    "    print(\"No common dividers\")\n",
    "        "
   ]
  },
  {
   "cell_type": "code",
   "execution_count": 13,
   "metadata": {},
   "outputs": [
    {
     "name": "stdout",
     "output_type": "stream",
     "text": [
      "strtion"
     ]
    }
   ],
   "source": [
    "string = 'abstraction'\n",
    "vov = ('a','b','c')\n",
    "\n",
    "for i, letter in enumerate(string):\n",
    "    if letter in vov:\n",
    "        continue\n",
    "    else:\n",
    "        print(letter,end='')"
   ]
  },
  {
   "cell_type": "code",
   "execution_count": 14,
   "metadata": {},
   "outputs": [
    {
     "name": "stdout",
     "output_type": "stream",
     "text": [
      "23\n",
      "Unfortunately, this is wrong answer\n"
     ]
    }
   ],
   "source": [
    "string =\"Yes\"\n",
    "question = input()\n",
    "for i, letter in enumerate(question):\n",
    "    if string in question:\n",
    "        print(\"This is great!\")\n",
    "        break\n",
    "    elif question==\"No\":\n",
    "        continue\n",
    "        continue\n",
    "        continue\n",
    "        continue\n",
    "        continue\n",
    "        print(\"This is useless!\")\n",
    "        \n",
    "else:\n",
    "     print(\"Unfortunately, this is wrong answer\")\n",
    "        "
   ]
  },
  {
   "cell_type": "code",
   "execution_count": 15,
   "metadata": {},
   "outputs": [
    {
     "name": "stdout",
     "output_type": "stream",
     "text": [
      "This is useless!\n",
      "Unfortunately, this is wrong answer\n"
     ]
    }
   ],
   "source": [
    "string='No'\n",
    "for i in range(5):\n",
    "    if string=='Yes':\n",
    "        print('This is great!')\n",
    "        break\n",
    "    elif string == 'No' and i==4:\n",
    "        print(\"This is useless!\")\n",
    "else:\n",
    "    print('Unfortunately, this is wrong answer')\n"
   ]
  },
  {
   "cell_type": "code",
   "execution_count": 16,
   "metadata": {},
   "outputs": [
    {
     "name": "stdout",
     "output_type": "stream",
     "text": [
      "Simple\n"
     ]
    }
   ],
   "source": [
    "number = 173\n",
    "for i in range(2, number):\n",
    "    if number%i==0:\n",
    "        print(\"Not simple\")\n",
    "        \n",
    "else:\n",
    "    print(\"Simple\")"
   ]
  },
  {
   "cell_type": "code",
   "execution_count": 17,
   "metadata": {},
   "outputs": [
    {
     "name": "stdout",
     "output_type": "stream",
     "text": [
      "Simple\n"
     ]
    }
   ],
   "source": [
    "number=173\n",
    "for i in range(2,number):\n",
    "    if number%i==0:\n",
    "        print(\"Not simple\")\n",
    "        break\n",
    "else:\n",
    "    print(\"Simple\")"
   ]
  },
  {
   "cell_type": "code",
   "execution_count": 18,
   "metadata": {},
   "outputs": [
    {
     "name": "stdout",
     "output_type": "stream",
     "text": [
      "I like this string!\n"
     ]
    }
   ],
   "source": [
    "string = 'nice string'\n",
    "vov = 'a', 'e', 'i', 'o', 'q', 'u','y'\n",
    "for i, letter in enumerate(string):\n",
    "    if i%2==0 and letter in vov:\n",
    "        print(\"I like this string!\")\n",
    "        break\n",
    "else:\n",
    "    print(\"I don't like this string!\")"
   ]
  }
 ],
 "metadata": {
  "kernelspec": {
   "display_name": "Python 3",
   "language": "python",
   "name": "python3"
  },
  "language_info": {
   "codemirror_mode": {
    "name": "ipython",
    "version": 3
   },
   "file_extension": ".py",
   "mimetype": "text/x-python",
   "name": "python",
   "nbconvert_exporter": "python",
   "pygments_lexer": "ipython3",
   "version": "3.7.6"
  }
 },
 "nbformat": 4,
 "nbformat_minor": 4
}
