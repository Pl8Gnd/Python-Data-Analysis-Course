{
 "cells": [
  {
   "cell_type": "code",
   "execution_count": 7,
   "metadata": {},
   "outputs": [
    {
     "name": "stdout",
     "output_type": "stream",
     "text": [
      "1-th color of rainbow is red\n",
      "2-th color of rainbow is orange\n",
      "3-th color of rainbow is yellow\n",
      "4-th color of rainbow is green\n",
      "5-th color of rainbow is cyan\n",
      "6-th color of rainbow is blue\n",
      "7-th color of rainbow is violet\n"
     ]
    }
   ],
   "source": [
    "i = 1\n",
    "for color in 'red', 'orange', 'yellow', 'green', 'cyan', 'blue', 'violet':\n",
    "    print(i, '-th color of rainbow is ', color, sep = '' )\n",
    "    i += 1"
   ]
  },
  {
   "cell_type": "code",
   "execution_count": 8,
   "metadata": {},
   "outputs": [
    {
     "name": "stdout",
     "output_type": "stream",
     "text": [
      "25\n",
      "27\n",
      "33\n",
      "35\n",
      "39\n",
      "45\n"
     ]
    }
   ],
   "source": [
    "num_1 = 25\n",
    "num_2 = 45\n",
    "for i in range(num_1,num_2+1,2):\n",
    "    if (i%3)==0 or (i%5)==0:\n",
    "        print(i)\n",
    "else:\n",
    "    if num_1<0 or num_2<num_1:\n",
    "        print( \"Wrong number set\")\n"
   ]
  },
  {
   "cell_type": "code",
   "execution_count": 9,
   "metadata": {},
   "outputs": [
    {
     "name": "stdout",
     "output_type": "stream",
     "text": [
      "25\n",
      "27\n",
      "33\n",
      "35\n",
      "39\n",
      "45\n"
     ]
    }
   ],
   "source": [
    "num_1 = 25\n",
    "num_2 = 45\n",
    "if num_1<0 or num_2<num_1:\n",
    "    print( \"Wrong set number\")\n",
    "else:\n",
    "    for i in range(num_1,num_2+1):\n",
    "        if (i%2)!=0:\n",
    "            if (i%3)==0 or (i%5)==0:\n",
    "                print(i)"
   ]
  },
  {
   "cell_type": "code",
   "execution_count": 10,
   "metadata": {},
   "outputs": [
    {
     "name": "stdout",
     "output_type": "stream",
     "text": [
      "2\n"
     ]
    }
   ],
   "source": [
    "num_1 = 12\n",
    "num_2 = 38 \n",
    "for x in range(2, num_1 + 1):\n",
    "    if num_1 % x == 0 and num_2 % x ==0:\n",
    "        print(x)"
   ]
  },
  {
   "cell_type": "code",
   "execution_count": 11,
   "metadata": {},
   "outputs": [
    {
     "name": "stdout",
     "output_type": "stream",
     "text": [
      "hheellll  wwrrlldd"
     ]
    }
   ],
   "source": [
    "for i in 'hello world':\n",
    "    if i == 'o':\n",
    "        continue\n",
    "        \n",
    "    print(i * 2, end='')"
   ]
  },
  {
   "cell_type": "code",
   "execution_count": 12,
   "metadata": {},
   "outputs": [
    {
     "name": "stdout",
     "output_type": "stream",
     "text": [
      "Your money will rise up in 12 years\n"
     ]
    }
   ],
   "source": [
    "money = 1\n",
    "year = 0\n",
    "yearly_multiplier = 1.06\n",
    "\n",
    "while money < 2:\n",
    "    money = money*yearly_multiplier\n",
    "    year += 1\n",
    "else:\n",
    "    print('Your money will rise up in', year, 'years')"
   ]
  },
  {
   "cell_type": "code",
   "execution_count": 13,
   "metadata": {},
   "outputs": [
    {
     "name": "stdout",
     "output_type": "stream",
     "text": [
      "19\n"
     ]
    }
   ],
   "source": [
    "y = 170000\n",
    "z = 1000000\n",
    "year = 0\n",
    "yearly_multiplier = 1.1\n",
    "while y < z:\n",
    "    y = y*yearly_multiplier\n",
    "    year += 1 \n",
    "else:\n",
    "    print(year)"
   ]
  },
  {
   "cell_type": "code",
   "execution_count": 14,
   "metadata": {},
   "outputs": [
    {
     "name": "stdout",
     "output_type": "stream",
     "text": [
      "7\n"
     ]
    }
   ],
   "source": [
    "current_health = 500\n",
    "attack = 80\n",
    "seconds = 0\n",
    "while current_health > 0:\n",
    "    current_health = current_health-attack\n",
    "    seconds += 1 \n",
    "else:\n",
    "    print(seconds)"
   ]
  },
  {
   "cell_type": "code",
   "execution_count": 15,
   "metadata": {},
   "outputs": [
    {
     "name": "stdout",
     "output_type": "stream",
     "text": [
      "Overload 62 kg\n"
     ]
    }
   ],
   "source": [
    "weight = 77\n",
    "i=1\n",
    "while (400>weight*i):\n",
    "    i+=1\n",
    "else:\n",
    "    print('Overload', weight*i-400, 'kg') "
   ]
  },
  {
   "cell_type": "code",
   "execution_count": 16,
   "metadata": {},
   "outputs": [
    {
     "name": "stdout",
     "output_type": "stream",
     "text": [
      "10000\n",
      "7200\n",
      "4400\n",
      "1600\n",
      "Too much spends\n"
     ]
    }
   ],
   "source": [
    "spent = 2800\n",
    "balance = 10000\n",
    "for i in range(balance):\n",
    "    print(balance)\n",
    "    break\n",
    "while balance >=spent:\n",
    "    balance-=spent\n",
    "    print(balance)\n",
    "else: \n",
    "    print(\"Too much spends\")"
   ]
  },
  {
   "cell_type": "code",
   "execution_count": 17,
   "metadata": {},
   "outputs": [
    {
     "name": "stdout",
     "output_type": "stream",
     "text": [
      "12\n"
     ]
    }
   ],
   "source": [
    "count = 1\n",
    "while count < 27:\n",
    "    if count%2==0:\n",
    "        to_print=12\n",
    "    else:\n",
    "        to_print=10\n",
    "    count+=1\n",
    "print(to_print)"
   ]
  },
  {
   "cell_type": "code",
   "execution_count": 18,
   "metadata": {},
   "outputs": [
    {
     "name": "stdout",
     "output_type": "stream",
     "text": [
      "20\n"
     ]
    }
   ],
   "source": [
    "volume = 1000\n",
    "limit = 0\n",
    "robot = 5\n",
    "x = 0\n",
    "while volume > limit:\n",
    "    volume -= robot+5*x\n",
    "    x+=1\n",
    "else:\n",
    "    print(x) "
   ]
  }
 ],
 "metadata": {
  "kernelspec": {
   "display_name": "Python 3",
   "language": "python",
   "name": "python3"
  },
  "language_info": {
   "codemirror_mode": {
    "name": "ipython",
    "version": 3
   },
   "file_extension": ".py",
   "mimetype": "text/x-python",
   "name": "python",
   "nbconvert_exporter": "python",
   "pygments_lexer": "ipython3",
   "version": "3.7.6"
  }
 },
 "nbformat": 4,
 "nbformat_minor": 4
}
