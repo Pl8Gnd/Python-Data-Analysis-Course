{
 "cells": [
  {
   "cell_type": "code",
   "execution_count": 17,
   "metadata": {},
   "outputs": [
    {
     "name": "stdout",
     "output_type": "stream",
     "text": [
      "Even number\n"
     ]
    }
   ],
   "source": [
    "a = 4\n",
    "if a%2 == 0:\n",
    "    print('Even number')"
   ]
  },
  {
   "cell_type": "code",
   "execution_count": 18,
   "metadata": {},
   "outputs": [
    {
     "name": "stdout",
     "output_type": "stream",
     "text": [
      "This word long.\n"
     ]
    }
   ],
   "source": [
    "word = 'Very long word'\n",
    "if len(word)>7:\n",
    "    print(\"This word long.\")\n",
    "else:\n",
    "    print(\"This word short.\")\n"
   ]
  },
  {
   "cell_type": "code",
   "execution_count": 19,
   "metadata": {},
   "outputs": [
    {
     "name": "stdout",
     "output_type": "stream",
     "text": [
      "Heh, this is not a very rare word...\n"
     ]
    }
   ],
   "source": [
    "word = 'Very long word'\n",
    "if 'f' in (word):\n",
    "    print(\"Wow! You typed rare word!\")\n",
    "else:\n",
    "    print(\"Heh, this is not a very rare word...\")"
   ]
  },
  {
   "cell_type": "code",
   "execution_count": 20,
   "metadata": {},
   "outputs": [
    {
     "name": "stdout",
     "output_type": "stream",
     "text": [
      "This letter has in typed word\n"
     ]
    }
   ],
   "source": [
    "word = 'Very long word'\n",
    "letter = 'e'\n",
    "if letter in word:\n",
    "    print(\"This letter has in typed word\")\n",
    "else:\n",
    "    print(\"Those letter has not in typed word\")"
   ]
  },
  {
   "cell_type": "code",
   "execution_count": 21,
   "metadata": {},
   "outputs": [
    {
     "name": "stdout",
     "output_type": "stream",
     "text": [
      "13\n"
     ]
    }
   ],
   "source": [
    "number = 169\n",
    "if (number**(1/2))>0 == int():\n",
    "    print(int(number**(1/2)))\n",
    "else:\n",
    "    print('Square root from',(number),'- not integer number.')\n"
   ]
  },
  {
   "cell_type": "code",
   "execution_count": 22,
   "metadata": {},
   "outputs": [
    {
     "name": "stdout",
     "output_type": "stream",
     "text": [
      "Friday\n"
     ]
    }
   ],
   "source": [
    "number = 5\n",
    "if number==1:\n",
    "    print(\"Monday\")\n",
    "elif number==2:\n",
    "    print(\"Tuesday\")\n",
    "elif number==3:\n",
    "    print(\"Wednesday\")\n",
    "elif number==4:\n",
    "    print(\"Thursday\")\n",
    "elif number==5:\n",
    "    print(\"Friday\")\n",
    "elif number==6:\n",
    "    print(\"Saturday\")\n",
    "elif number==7:\n",
    "    print(\"Sunday\")"
   ]
  },
  {
   "cell_type": "code",
   "execution_count": 23,
   "metadata": {},
   "outputs": [
    {
     "name": "stdout",
     "output_type": "stream",
     "text": [
      "Normal Body Mass Index\n"
     ]
    }
   ],
   "source": [
    "weight=80\n",
    "height = 1.8\n",
    "if (weight/(height)**2)>=18.5<=24.99:\n",
    "    print(\"Normal Body Mass Index\")\n",
    "elif (weight/(height)**2)<18.5:\n",
    "    print(\"Low Body Mass Index\")\n",
    "elif (weight/(height)**2)>24.99:\n",
    "    print(\"High Body Mass Index\")\n"
   ]
  },
  {
   "cell_type": "code",
   "execution_count": 24,
   "metadata": {},
   "outputs": [
    {
     "name": "stdout",
     "output_type": "stream",
     "text": [
      "very good\n"
     ]
    }
   ],
   "source": [
    "mark = 7\n",
    "if mark<4:\n",
    "    print('poor')\n",
    "elif mark==4:\n",
    "    print('good')\n",
    "elif mark==5:\n",
    "    print('good')\n",
    "elif mark==6:\n",
    "    print('very good')\n",
    "elif mark==7:\n",
    "    print('very good')\n",
    "elif mark>=8:\n",
    "    print('perfect')"
   ]
  },
  {
   "cell_type": "code",
   "execution_count": 25,
   "metadata": {},
   "outputs": [
    {
     "name": "stdout",
     "output_type": "stream",
     "text": [
      "You should eat at home\n"
     ]
    }
   ],
   "source": [
    "balance = 455\n",
    "if balance>5000:\n",
    "    print(\"Today you are going to the restaraunt!\")\n",
    "elif balance>2500<5000:\n",
    "    print(\"Heh, only fastfood\")\n",
    "elif balance<2500:\n",
    "    print(\"You should eat at home\")\n"
   ]
  },
  {
   "cell_type": "code",
   "execution_count": 26,
   "metadata": {},
   "outputs": [
    {
     "name": "stdout",
     "output_type": "stream",
     "text": [
      "number devine on 2 without remainder.\n"
     ]
    }
   ],
   "source": [
    "number = 452\n",
    "if number%2 == 0:\n",
    "    print(\"number devine on 2 without remainder.\")\n",
    "elif number%3 == 0:\n",
    "    print(\"number devine on 3 without remainder.\")\n",
    "elif number%5 == 0:\n",
    "    print(\"number devine on 5 without remainder.\")\n",
    "else:\n",
    "    print(\"number not devine not on 2, not on 3, not on 5 without remainder!\")\n",
    "   "
   ]
  },
  {
   "cell_type": "code",
   "execution_count": 27,
   "metadata": {},
   "outputs": [
    {
     "name": "stdout",
     "output_type": "stream",
     "text": [
      "Python\n"
     ]
    }
   ],
   "source": [
    "fav_word = 'Application'\n",
    "if fav_word==\"reptile\" or fav_word==\"python\" or fav_word==\"snake\":\n",
    "    print(\"Python\")\n",
    "elif fav_word==\"plus\" or fav_word==\"plusses\":\n",
    "    print(\"C++\")\n",
    "elif fav_word==\"rubin\" or fav_word==\"crystall\":\n",
    "    print(\"Ruby\")\n",
    "else:\n",
    "    print(\"Python\")"
   ]
  },
  {
   "cell_type": "code",
   "execution_count": 28,
   "metadata": {},
   "outputs": [
    {
     "name": "stdout",
     "output_type": "stream",
     "text": [
      "Anna doesn't like this flowers\n"
     ]
    }
   ],
   "source": [
    "flower = 'rose'\n",
    "color = 'violent'\n",
    "if flower =='rose' and color == 'blue':\n",
    "    print(\"Anna liked this flowers\")\n",
    "else:\n",
    "    print(\"Anna doesn't like this flowers\")"
   ]
  },
  {
   "cell_type": "code",
   "execution_count": 29,
   "metadata": {},
   "outputs": [
    {
     "name": "stdout",
     "output_type": "stream",
     "text": [
      "Let's try new search...\n"
     ]
    }
   ],
   "source": [
    "height = 180\n",
    "weight = 92\n",
    "color = 'blue'\n",
    "if height >170 and weight <80 and color =='red':\n",
    "    print(\"Your half is found!\")\n",
    "else:\n",
    "    print(\"Let's try new search...\")\n"
   ]
  },
  {
   "cell_type": "code",
   "execution_count": 30,
   "metadata": {},
   "outputs": [
    {
     "name": "stdout",
     "output_type": "stream",
     "text": [
      "Jhonn, this is your number\n"
     ]
    }
   ],
   "source": [
    "number = 346\n",
    "if number%2==0 or number%5==0 or number%173==0 or number%821==0:\n",
    "    print(\"Jhonn, this is your number\")\n",
    "else:\n",
    "    print(\"Jhonn, this is not your number\")\n",
    "     "
   ]
  },
  {
   "cell_type": "code",
   "execution_count": 31,
   "metadata": {},
   "outputs": [
    {
     "name": "stdout",
     "output_type": "stream",
     "text": [
      "Teacher is busy.\n"
     ]
    }
   ],
   "source": [
    "from datetime import time\n",
    "hour = 18\n",
    "minute = 47\n",
    "a = time(hour, minute)\n",
    "if (a > time(10, 30) and a < time(12,00)) or (a > time(13, 40) and a < time(15,00)) or (a > time(18, 30) and a < time(19, 30)):\n",
    "    print('Teacher is busy.')\n",
    "else:\n",
    "    print('Teacher is vacant.')"
   ]
  }
 ],
 "metadata": {
  "kernelspec": {
   "display_name": "Python 3",
   "language": "python",
   "name": "python3"
  },
  "language_info": {
   "codemirror_mode": {
    "name": "ipython",
    "version": 3
   },
   "file_extension": ".py",
   "mimetype": "text/x-python",
   "name": "python",
   "nbconvert_exporter": "python",
   "pygments_lexer": "ipython3",
   "version": "3.7.6"
  }
 },
 "nbformat": 4,
 "nbformat_minor": 4
}
