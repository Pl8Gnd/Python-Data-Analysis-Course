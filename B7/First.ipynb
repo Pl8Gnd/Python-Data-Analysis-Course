{
 "cells": [
  {
   "cell_type": "code",
   "execution_count": 1,
   "metadata": {},
   "outputs": [
    {
     "data": {
      "text/plain": [
       "array([ 5,  6,  7,  8,  9, 10])"
      ]
     },
     "execution_count": 1,
     "metadata": {},
     "output_type": "execute_result"
    }
   ],
   "source": [
    "import numpy as np\n",
    "import pandas as pd\n",
    "arr1 = np.array([1,2,3,4])\n",
    "arr1.dtype\n",
    "arr3 = np.array([[1,2,3],[4,5,6],[7,8,9]])\n",
    "np.shape(arr3)\n",
    "df = pd.DataFrame()\n",
    "x = df.values\n",
    "type(x)\n",
    "my_series = pd.Series([5, 6, 7, 8, 9, 10])\n",
    "my_series.values"
   ]
  },
  {
   "cell_type": "code",
   "execution_count": null,
   "metadata": {},
   "outputs": [],
   "source": [
    "np.empty(5) # one-dimensional array of five elements for which memory is allocated but not initialized\n",
    "np.zeros((10, 7)) # array of size 10x7 filled with zeros \n",
    "np.ones((3,3,3)) # 3x3x3 array filled with units\n",
    "np.eye(3) # identity matrix (elements of the main diagonal are 1, the rest are 0) of size 3x3\n",
    "np.full((3, 5), 3.14)  # 3x5 array filled with number 3.14\n",
    "np.arange(0, 21, 7)  # one-dimensional array filled with numbers in the range from 0 to 20 in increments of 7\n",
    "np.linspace(0, 1, 5)  # an array of five numbers evenly distributed between 0 and 1 inclusive\n",
    "np.random.randint(0, 10, (3, 3))  # 3x3 array filled with random numbers from the range from 0 to 10\n",
    "Z = append([[1 for _ in range(0,len(Z))]], Z.T,0).T"
   ]
  },
  {
   "cell_type": "code",
   "execution_count": null,
   "metadata": {},
   "outputs": [],
   "source": [
    "my_secret = [x for x in range(1, 301, 7) if x%10 == 7 or x%10 == 1]\n",
    "np.array([my_secret, [x/2 for x in my_secret], [x-100 for x in my_secret]])\n",
    "\n",
    "my_array = np.array([[1,2,3,4], [10,11,12,13], [45,46,47,48]])\n",
    "\n",
    "my_array[:,3]\n",
    "my_array.shape"
   ]
  },
  {
   "cell_type": "code",
   "execution_count": 41,
   "metadata": {},
   "outputs": [
    {
     "data": {
      "text/plain": [
       "341505315559.2347"
      ]
     },
     "execution_count": 41,
     "metadata": {},
     "output_type": "execute_result"
    }
   ],
   "source": [
    "first_line = [x*y for x in range(2, 100, 6) for y in range (7, 1, -2)]\n",
    "second_line = [x ** 0.5 for x in range(1000, 1101, 2)]\n",
    "third_line = [x**2 for x in range(51)]\n",
    "\n",
    "big_secret = np.array([first_line, second_line, third_line, second_line, first_line])\n",
    "x=[]\n",
    "\n",
    "for i in big_secret:\n",
    "    x=big_secret[:, 46:52]\n",
    "    \n",
    "sum_main = x[0,0]*x[1,1]*x[2,2]*x[3,3]*x[4,4]\n",
    "sum_main"
   ]
  },
  {
   "cell_type": "code",
   "execution_count": 25,
   "metadata": {},
   "outputs": [
    {
     "data": {
      "text/plain": [
       "-1.0"
      ]
     },
     "execution_count": 25,
     "metadata": {},
     "output_type": "execute_result"
    }
   ],
   "source": [
    "first_line = [x*y for x in range(2, 100, 6) for y in range (7, 1, -2)]\n",
    "second_line = [x ** 0.5 for x in range(1000, 1101, 2)]\n",
    "third_line = [x**2 for x in range(51)]\n",
    "\n",
    "big_secret = np.array([first_line, second_line, third_line, second_line, first_line], dtype = float)\n",
    "\n",
    "for i in enumerate(big_secret):\n",
    "    if i[0]%2==0:\n",
    "        np.put(big_secret,[i for i in range(0,255) if i%2==0], [-1])\n",
    "    else:\n",
    "        np.put(big_secret,[i for i in range(0,255) if i%2==1], [1])\n",
    "         \n",
    "x=[]\n",
    "for i in enumerate(big_secret):\n",
    "    x=big_secret[:, 46:52]\n",
    "\n",
    "sum_main = x[0,0]*x[1,1]*x[2,2]*x[3,3]*x[4,4]\n",
    "sum_main\n"
   ]
  },
  {
   "cell_type": "code",
   "execution_count": 5,
   "metadata": {},
   "outputs": [
    {
     "data": {
      "text/plain": [
       "array([[64, 17,  0,  0, 73, 10]])"
      ]
     },
     "execution_count": 5,
     "metadata": {},
     "output_type": "execute_result"
    }
   ],
   "source": [
    "my_array = np.random.randint(1, 100, (4, 6)) \n",
    "my_slice = my_array[1:3, 2:4]\n",
    "my_slice\n",
    "my_slice[:] = 0\n",
    "my_array"
   ]
  },
  {
   "cell_type": "code",
   "execution_count": null,
   "metadata": {},
   "outputs": [],
   "source": [
    "a = np.array([3,6,9])\n",
    "b = np.array([12,15,18])\n",
    "\n",
    "result1 = a+b\n",
    "result2 = b-a\n",
    "result3 = a*b\n",
    "result4 = a/b\n",
    "result5 = a*2\n",
    "print('Sum: {} \\ nDifference: {} \\ nProduction: {} \\ nPrivate: {} \\ nMultiplication by a number: {} '.format(result1, result2, result3, result4, result5))"
   ]
  },
  {
   "cell_type": "code",
   "execution_count": null,
   "metadata": {},
   "outputs": [],
   "source": [
    "my_array = np.array([[1,2,3,4,5], [6,7,8,9,10]])\n",
    "my_array.T\n",
    "\n",
    "my_array = np.random.randint(0, 10, 20)\n",
    "my_array.reshape((4,5))\n",
    "\n",
    "my_array = np.array([[1,2,3], [11,22,33], [111,222,333]])\n",
    "my_array.flatten()\n",
    "\n",
    "my_array = np.random.randint(0, 10, (3,4))\n",
    "my_array[my_array<5]\n",
    "\n",
    "mask = np.array([1, 0, 1, 0], dtype=bool)\n",
    "my_array[:, mask]\n",
    "\n",
    "my_array = np.random.randint(0, 10, (4, 6))\n",
    "\n",
    "np.sort(my_array, axis=1)\n",
    "\n",
    "np.sort(my_array, axis=0)"
   ]
  },
  {
   "cell_type": "code",
   "execution_count": null,
   "metadata": {},
   "outputs": [],
   "source": [
    "first = [x**(1/2) for x in range(100)]\n",
    "second = [x**(1/3) for x in range(100, 200)]\n",
    "third = [x/y for x in range(200,300,2) for y in [3,5]]\n",
    "\n",
    "great_secret = np.array([first, second, third]).T\n",
    "\n",
    "# sum(great_secret[great_secret>50])\n",
    "\n",
    "s = np.sort(great_secret, axis=0 )\n",
    "sum(s[99])"
   ]
  },
  {
   "cell_type": "code",
   "execution_count": 2,
   "metadata": {},
   "outputs": [
    {
     "data": {
      "text/plain": [
       "60.36"
      ]
     },
     "execution_count": 2,
     "metadata": {},
     "output_type": "execute_result"
    }
   ],
   "source": [
    "import numpy as np\n",
    "import pandas as pd\n",
    "\n",
    "students= np.array([[1,2,3,4,5,6,7,8,9,10],[135,160,163,147,138,149,136,154,137,165],[34,43,40,44,41,54,39,48,35,60],[4,5,4.3,5,4.7,3.9,4.2,4.9,3.7,4.6]  ]).T\n",
    "\n",
    "mean = np.mean(students[:,-1])\n",
    "\n",
    "median = np.median(students[:,-2])\n",
    "\n",
    "corr = np.corrcoef(students[:,2], students[:,3])\n",
    "\n",
    "std = np.std(students[:,3])\n",
    "\n",
    "dis = np.var(students[:,2])\n"
   ]
  },
  {
   "cell_type": "code",
   "execution_count": 3,
   "metadata": {},
   "outputs": [
    {
     "data": {
      "text/plain": [
       "2.4057172058139544"
      ]
     },
     "execution_count": 3,
     "metadata": {},
     "output_type": "execute_result"
    }
   ],
   "source": [
    "my_array = np.array([[1,2,3,4,5],\n",
    "                     [6,7,8,9,10],\n",
    "                     [11,12,13,14,15],\n",
    "                     [16,17,18,19,20],\n",
    "                     [21,22,23,24,25]])\n",
    "# my_array[1:4, 1:4]\n",
    "my_sin = np.sin(my_array)\n",
    "# np.sum(my_array)\n",
    "my_sin[1:4, 1:4] = 1.0\n",
    "# np.sum(my_sin)\n",
    "\n",
    "a = my_sin[:, 0:4]\n",
    "\n",
    "b = a.reshape((10,2))\n",
    "\n",
    "np.sum(b[:, 0])"
   ]
  },
  {
   "cell_type": "code",
   "execution_count": 4,
   "metadata": {},
   "outputs": [
    {
     "data": {
      "text/plain": [
       "array([[1.        , 0.99999973],\n",
       "       [0.99999973, 1.        ]])"
      ]
     },
     "execution_count": 4,
     "metadata": {},
     "output_type": "execute_result"
    }
   ],
   "source": [
    "bigdata = np.array([i**2 for i in range(100, 1000) if i%2==1 ])\n",
    "b = [v for k,v in enumerate(bigdata) if not k%2]\n",
    "c = [v for k,v in enumerate(bigdata) if k%2==1]\n",
    "\n",
    "np.median(bigdata)\n",
    "np.std(bigdata)\n",
    "np.corrcoef(b, c)"
   ]
  }
 ],
 "metadata": {
  "kernelspec": {
   "display_name": "Python 3",
   "language": "python",
   "name": "python3"
  },
  "language_info": {
   "codemirror_mode": {
    "name": "ipython",
    "version": 3
   },
   "file_extension": ".py",
   "mimetype": "text/x-python",
   "name": "python",
   "nbconvert_exporter": "python",
   "pygments_lexer": "ipython3",
   "version": "3.7.6"
  }
 },
 "nbformat": 4,
 "nbformat_minor": 4
}
