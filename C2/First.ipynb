{
 "cells": [
  {
   "cell_type": "code",
   "execution_count": 1,
   "metadata": {},
   "outputs": [
    {
     "name": "stdout",
     "output_type": "stream",
     "text": [
      "False\n",
      "Employee:  Rhett Hooley\n",
      "Total sales: 390000\n",
      "Average sales: 130000.0\n",
      "Companies: ['SkyEng', 'PepsiCo']\n"
     ]
    }
   ],
   "source": [
    "class SalesReport():  \n",
    "    pass  \n",
    "  \n",
    "report = SalesReport()  \n",
    "\n",
    "report_2 = SalesReport()  \n",
    "   \n",
    "print(report == report_2)  \n",
    "# => False  \n",
    "\n",
    "class SalesReport():  \n",
    "    \n",
    "    def print_report(self):  \n",
    "        print(\"Total amount:\", self.amount) \n",
    "    pass\n",
    " \n",
    "report = SalesReport()\n",
    "report.amount = 10   \n",
    "  \n",
    "def print_report(report):  \n",
    "    print(\"Total amount:\", report.amount) \n",
    "    pass\n",
    " \n",
    "class SalesReport():  \n",
    "     \n",
    "    def __init__(self, employee_name):  \n",
    "        self.deals = []  \n",
    "        self.employee_name = employee_name\n",
    "    \n",
    "    def add_deal(self, company, amount):   \n",
    "        self.deals.append({'company': company, 'amount': amount})  \n",
    "          \n",
    "    def total_amount(self):  \n",
    "        return sum([deal['amount'] for deal in self.deals])  \n",
    "      \n",
    "    def average_deal(self):  \n",
    "        return self.total_amount()/len(self.deals)  \n",
    "      \n",
    "    def all_companies(self):  \n",
    "        return list(set([deal['company'] for deal in self.deals]))  \n",
    "      \n",
    "    def print_report(self):  \n",
    "        print(\"Employee: \", self.employee_name)  \n",
    "        print(\"Total sales:\", self.total_amount())  \n",
    "        print(\"Average sales:\", self.average_deal())  \n",
    "        print(\"Companies:\", self.all_companies())  \n",
    "      \n",
    "      \n",
    "report = SalesReport(\"Rhett Hooley\")  \n",
    "  \n",
    "report.add_deal(\"PepsiCo\", 120_000)  \n",
    "report.add_deal(\"SkyEng\", 250_000)  \n",
    "report.add_deal(\"PepsiCo\", 20_000)  \n",
    "\n",
    "report.print_report() "
   ]
  },
  {
   "cell_type": "code",
   "execution_count": 89,
   "metadata": {},
   "outputs": [
    {
     "name": "stdout",
     "output_type": "stream",
     "text": [
      "Average department revenue for Danon: 700000\n"
     ]
    }
   ],
   "source": [
    "class DepartmentReport():\n",
    "    \n",
    "    def __init__(self, company_name):  \n",
    "        self.revenues = [] \n",
    "        self.company_name = company_name \n",
    "    \n",
    "    def add_revenue(self, amount):\n",
    "        if not hasattr(self, 'revenues'):  \n",
    "            self.revenues = []  \n",
    "        self.revenues.append(amount)\n",
    "          \n",
    "    def average_revenue(amount):\n",
    "        average_revenue = sum(amount.revenues)//len(amount.revenues)\n",
    "        return \"Average department revenue for %s: %d\" %(amount.company_name, average_revenue)  \n",
    "        pass\n",
    "      \n",
    "report = DepartmentReport(\"Danon\")\n",
    "report.add_revenue(1_000_000)\n",
    "report.add_revenue(400_000)\n",
    "\n",
    "print(report.average_revenue())\n"
   ]
  },
  {
   "cell_type": "code",
   "execution_count": null,
   "metadata": {},
   "outputs": [],
   "source": [
    "class Client():  \n",
    "    \n",
    "    def __init__(self, email, order_num, registration_year):  \n",
    "        self.email = email  \n",
    "        self.order_num = order_num  \n",
    "        self.registration_year = registration_year  \n",
    "        self.discount = 0  \n",
    "          \n",
    "    \n",
    "    def make_order(self, price):  \n",
    "        self.update_discount()  \n",
    "        self.order_num += 1  \n",
    "         \n",
    "        discounted_price = price * (1 - self.discount)   \n",
    "        print(f\"Order price for {self.email} is {discounted_price}\")  \n",
    "              \n",
    "     \n",
    "    def update_discount(self):   \n",
    "        if self.registration_year < 2018 and self.order_num >= 5:  \n",
    "            self.discount = 0.1   \n",
    "            pass\n",
    "              \n",
    "\n",
    "client_db = [   \n",
    "    Client(\"rhett@gmail.com\", 2, 2019),  \n",
    "    Client(\"patrick@yahoo.com\", 10, 2015),  \n",
    "    Client(\"frank@gmail.com\", 4, 2017)  \n",
    "]  \n",
    "  \n",
    "\n",
    "client_db[0].make_order(100)  \n",
    " \n",
    "client_db[1].make_order(200)  \n",
    "  \n",
    "client_db[2].make_order(500)  \n",
    "  \n",
    "client_db[2].make_order(500)  \n"
   ]
  },
  {
   "cell_type": "code",
   "execution_count": 140,
   "metadata": {},
   "outputs": [
    {
     "name": "stdout",
     "output_type": "stream",
     "text": [
      "19700\n"
     ]
    }
   ],
   "source": [
    "class User():  \n",
    "   \n",
    "    def __init__(self, email, password, balance):  \n",
    "        self.email = email  \n",
    "        self.password = password  \n",
    "        self.balance = balance   \n",
    "           \n",
    "    def update_balance(self, amount):  \n",
    "        self.balance+=amount\n",
    "        return amount\n",
    "      \n",
    "    def login(self, email, password):   \n",
    "        if self.email==email and self.password==password:  \n",
    "            return True\n",
    "        else: \n",
    "            return False \n",
    "\n",
    "user = User(\"test@wwf.org\", \"qwerty\", 20_000)\n",
    "user.login(\"test@wwf.org\", \"qwerty123\")\n",
    "# => False\n",
    "user.login(\"test@wwf.org\", \"qwerty\")\n",
    "# => True\n",
    "user.update_balance(200)\n",
    "user.update_balance(-500)\n",
    "print(user.balance)"
   ]
  },
  {
   "cell_type": "code",
   "execution_count": 144,
   "metadata": {},
   "outputs": [
    {
     "name": "stdout",
     "output_type": "stream",
     "text": [
      "[1.0, 17.0, 4.0, 0.0, 8.0]\n",
      "6.892024376045111\n",
      "4.0\n"
     ]
    }
   ],
   "source": [
    "import statistics  \n",
    "  \n",
    "class DataFrame():  \n",
    "    def __init__(self, column, fill_value=0):  \n",
    "         \n",
    "        self.column = column  \n",
    "        self.fill_value = fill_value  \n",
    "          \n",
    "        self.fill_missed()  \n",
    "        \n",
    "        self.to_float()  \n",
    "          \n",
    "    def fill_missed(self):  \n",
    "        for i, value in enumerate(self.column):  \n",
    "            if value is None or value == '':  \n",
    "                self.column[i] = self.fill_value  \n",
    "                  \n",
    "    def to_float(self):  \n",
    "        self.column = [float(value) for value in self.column]  \n",
    "      \n",
    "    def median(self):  \n",
    "        return statistics.median(self.column)  \n",
    "      \n",
    "    def mean(self):  \n",
    "        return statistics.mean(self.column)  \n",
    "      \n",
    "    def deviation(self):  \n",
    "        return statistics.stdev(self.column)  \n",
    "      \n",
    "  \n",
    "      \n",
    "\n",
    "df = DataFrame([\"1\", 17, 4, None, 8])  \n",
    "  \n",
    "print(df.column)  \n",
    "\n",
    "print(df.deviation())  \n",
    " \n",
    "print(df.median())  "
   ]
  },
  {
   "cell_type": "code",
   "execution_count": 175,
   "metadata": {},
   "outputs": [
    {
     "data": {
      "text/plain": [
       "4"
      ]
     },
     "execution_count": 175,
     "metadata": {},
     "output_type": "execute_result"
    }
   ],
   "source": [
    "import statistics \n",
    "\n",
    "class IntDataFrame():  \n",
    "    def __init__(self, column):   \n",
    "        self.column = column         \n",
    "        self.to_int()   \n",
    "                  \n",
    "    def to_int(self):  \n",
    "        self.column = [int(value) for value in self.column]  \n",
    "      \n",
    "    def count(self):  \n",
    "        return len([i for i in self.column if i>0])\n",
    "      \n",
    "    def unique(self):  \n",
    "        list_set = set(self.column) \n",
    "        unique_list = (list(list_set)) \n",
    "        return len(unique_list)\n",
    "      \n",
    "\n",
    "df = IntDataFrame([4.7, 4, 3, 0, 2.4, 0.3, 4])\n",
    "\n",
    "df.count()\n",
    "\n",
    "df.unique()"
   ]
  },
  {
   "cell_type": "code",
   "execution_count": null,
   "metadata": {},
   "outputs": [],
   "source": [
    "import pickle  \n",
    "from datetime import datetime  \n",
    "from os import path  \n",
    "  \n",
    "class Dumper():  \n",
    "    def __init__(self, archive_dir=\"archive/\"):  \n",
    "        self.archive_dir = archive_dir  \n",
    "          \n",
    "    def dump(self, data):  \n",
    "         \n",
    "        with open(self.get_file_name(), 'wb') as file:  \n",
    "            pickle.dump(data, file)  \n",
    "              \n",
    "    def load_for_day(self, day):  \n",
    "        file_name = path.join(self.archive_dir, day + \".pkl\")   \n",
    "        with open(file_name, 'rb') as file:  \n",
    "            sets = pickle.load(file)  \n",
    "        return sets  \n",
    "          \n",
    "      \n",
    "    def get_file_name(self):   \n",
    "        today = datetime.now().strftime(\"%y-%m-%d\")   \n",
    "        return path.join(self.archive_dir, today + \".pkl\")  \n",
    "    pass\n",
    "      \n",
    " \n",
    "  \n",
    "data = {  \n",
    "    'perfomance': [10, 20, 10],  \n",
    "    'clients': {\"WWF\": 10, \"Google\": 34}  \n",
    "}  \n",
    "  \n",
    "dumper = Dumper()  \n",
    "   \n",
    "dumper.dump(data)  \n",
    "  \n",
    "restored_data = dumper.load_for_day(\"19-05-09\")  \n",
    "print(restored_data)   "
   ]
  },
  {
   "cell_type": "code",
   "execution_count": 99,
   "metadata": {},
   "outputs": [
    {
     "data": {
      "text/plain": [
       "'System started'"
      ]
     },
     "execution_count": 99,
     "metadata": {},
     "output_type": "execute_result"
    }
   ],
   "source": [
    "class OwnLogger(): \n",
    "    \n",
    "    def __init__(self):  \n",
    "        self.message = {}\n",
    "        \n",
    "        \n",
    "    def log(self, message, level):\n",
    "        self.message.setdefault(level, message)    \n",
    "        return \n",
    "    \n",
    "    def show_last(self, level=\"all\"):\n",
    "        levels = [\"info\", \"warning\", \"error\", \"all\"]\n",
    "        last = [i for i in self.message.values()]\n",
    "        if level == \"all\":\n",
    "            return last[-1]\n",
    "        elif level != \"all\":\n",
    "            return self.message.get(level)\n",
    "        else:\n",
    "            return None      \n",
    "\n",
    "logger = OwnLogger()\n",
    "logger.log(\"System started\", \"info\")\n",
    "logger.show_last(\"error\")\n",
    "\n",
    "logger.log(\"Connection instable\", \"warning\")\n",
    "logger.log(\"Connection lost\", \"error\")\n",
    "\n",
    "logger.show_last() \n",
    "# # => Connection lost\n",
    "logger.show_last(\"info\")\n",
    "# # => System started"
   ]
  },
  {
   "cell_type": "code",
   "execution_count": 195,
   "metadata": {},
   "outputs": [
    {
     "data": {
      "text/plain": [
       "'Paw'"
      ]
     },
     "execution_count": 195,
     "metadata": {},
     "output_type": "execute_result"
    }
   ],
   "source": [
    "class Dog:\n",
    "    def bark(self):\n",
    "        return \"Bark!\"\n",
    "    def give_paw(self):\n",
    "        return \"Paw\"\n",
    "\n",
    "d = Dog()\n",
    "d.give_paw()"
   ]
  }
 ],
 "metadata": {
  "kernelspec": {
   "display_name": "Python 3",
   "language": "python",
   "name": "python3"
  },
  "language_info": {
   "codemirror_mode": {
    "name": "ipython",
    "version": 3
   },
   "file_extension": ".py",
   "mimetype": "text/x-python",
   "name": "python",
   "nbconvert_exporter": "python",
   "pygments_lexer": "ipython3",
   "version": "3.7.6"
  }
 },
 "nbformat": 4,
 "nbformat_minor": 4
}
