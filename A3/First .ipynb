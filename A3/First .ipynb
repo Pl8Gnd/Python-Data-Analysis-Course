{
 "cells": [
  {
   "cell_type": "code",
   "execution_count": 13,
   "metadata": {
    "pixiedust": {
     "displayParams": {}
    }
   },
   "outputs": [
    {
     "name": "stdout",
     "output_type": "stream",
     "text": [
      "You are the coolest studentevery\n",
      "hunter\n",
      "wants\n",
      "to\n",
      "know\n",
      "where\n",
      "the\n",
      "pheasant\n",
      "sits\n",
      "ices thato\n"
     ]
    }
   ],
   "source": [
    "string = 'You are the coolest student'\n",
    "for letter in string:\n",
    "    print(letter, end = '')\n",
    "\n",
    "rainbow_list = 'every hunter wants to know where the pheasant sits'.split()\n",
    "for word in rainbow_list:\n",
    "    print(word)\n",
    "\n",
    "proverb = 'Programmers are devices that convert caffeine to code.'\n",
    "result = proverb[19:28]+'o'\n",
    "print(result)"
   ]
  },
  {
   "cell_type": "code",
   "execution_count": 14,
   "metadata": {
    "scrolled": true
   },
   "outputs": [
    {
     "name": "stdout",
     "output_type": "stream",
     "text": [
      "rPgoarmmre sra eedivec shttac noevtrc faefni eotc do.e\n"
     ]
    }
   ],
   "source": [
    "proverb = 'Programmers are devices that convert caffeine to code.'\n",
    "new_proverb = ''\n",
    "k = 1\n",
    "i = 0 \n",
    "while i < len(proverb) or k < len(proverb):\n",
    "    i += 1\n",
    "    k += 1\n",
    "    if i %2 != 0 and k %2 == 0:\n",
    "        k,i == i,k\n",
    "        new_proverb += (proverb[k-1] + proverb[i-1])\n",
    "\n",
    "print(new_proverb)"
   ]
  },
  {
   "cell_type": "code",
   "execution_count": 15,
   "metadata": {},
   "outputs": [
    {
     "name": "stdout",
     "output_type": "stream",
     "text": [
      "Word \"programming\" - is not a palindrome\n"
     ]
    }
   ],
   "source": [
    "basic_word = 'programming'\n",
    "inverted_word=''\n",
    "for i in basic_word[::-1]:\n",
    "    inverted_word=inverted_word+i\n",
    "if basic_word == inverted_word:\n",
    "    print('Word \"'+basic_word+'\" is a palindrome')\n",
    "else:\n",
    "    print('Word \"'+basic_word+'\" - is not a palindrome')"
   ]
  },
  {
   "cell_type": "code",
   "execution_count": 16,
   "metadata": {},
   "outputs": [
    {
     "name": "stdout",
     "output_type": "stream",
     "text": [
      "14\n"
     ]
    }
   ],
   "source": [
    "email = 'trythisemail@gmail.com'\n",
    "email= email[email.find('@')+1:]\n",
    "email\n",
    "\n",
    "number = 56.257\n",
    "summary = 0\n",
    "for i in (str(number)[str(number).find('.')+1:]):\n",
    "    summary += int(i)\n",
    "print(summary)"
   ]
  },
  {
   "cell_type": "code",
   "execution_count": 17,
   "metadata": {},
   "outputs": [
    {
     "data": {
      "text/plain": [
       "'est wa'"
      ]
     },
     "execution_count": 17,
     "metadata": {},
     "output_type": "execute_result"
    }
   ],
   "source": [
    "new_numbers = []\n",
    "for number in '3,14 2,71 6,02 11,22 123,987'.split():\n",
    "    new_numbers.append(float(number.replace(',', '.')))\n",
    "new_numbers\n",
    "\n",
    "string = 'Internet cards are the best way for a man to tell a woman about his feelings right in the eye.'\n",
    "secret = string[24:30]\n",
    "new_string = string.replace(secret.lower(), secret.upper()) \n",
    "secret"
   ]
  },
  {
   "cell_type": "code",
   "execution_count": 18,
   "metadata": {
    "scrolled": true
   },
   "outputs": [
    {
     "name": "stdout",
     "output_type": "stream",
     "text": [
      "A heavy Internet addiction is when you exit the Internet:) but it isn’t from you:)\n"
     ]
    }
   ],
   "source": [
    "string = 'A heavy Internet addiction is when you exit the Internet, but it isn’t from you.'\n",
    "marks = '. , : - ! ?'.split()\n",
    "for i in string:\n",
    "    if i in marks:\n",
    "        string=string.replace(i,':)')\n",
    "print(string)"
   ]
  },
  {
   "cell_type": "code",
   "execution_count": 19,
   "metadata": {},
   "outputs": [
    {
     "name": "stdout",
     "output_type": "stream",
     "text": [
      "S - consonant\n",
      "e - vowel letter\n",
      "b - consonant\n",
      "a - vowel letter\n",
      "s - consonant\n",
      "t - consonant\n",
      "i - vowel letter\n",
      "a - vowel letter\n",
      "n - consonant\n"
     ]
    }
   ],
   "source": [
    "name = 'Sebastian'\n",
    "vov = 'a e o q i u y'.split()\n",
    "cons = \"b c d g d j k l m n p r s t v w x z\".split()\n",
    "for i, letter in enumerate(name):\n",
    "    if letter.lower() in vov:\n",
    "        print(letter, \"- vowel letter\")\n",
    "    if letter.lower() in cons:\n",
    "        print(letter, \"- consonant\")"
   ]
  },
  {
   "cell_type": "code",
   "execution_count": 20,
   "metadata": {},
   "outputs": [
    {
     "data": {
      "text/plain": [
       "['Yo!', 'Learn,', 'Forward!', 'Only ']"
      ]
     },
     "execution_count": 20,
     "metadata": {},
     "output_type": "execute_result"
    }
   ],
   "source": [
    "import re \n",
    "\n",
    "pattern = re.compile('[A-Z][a-z]*\\W')\n",
    "string = '!!! Yo! Learn, study and study! Forward! Only forward!' \n",
    "pattern.match(string)\n",
    "\n",
    "pattern.search(string)\n",
    "\n",
    "pattern.findall(string)"
   ]
  },
  {
   "cell_type": "code",
   "execution_count": 26,
   "metadata": {},
   "outputs": [
    {
     "data": {
      "text/plain": [
       "0"
      ]
     },
     "execution_count": 26,
     "metadata": {},
     "output_type": "execute_result"
    }
   ],
   "source": [
    "import re \n",
    "text = 'The development of the Python language was started in the late 1980s by Guido van Rossum, a member of the Dutch CWI Institute. The distributed Amoeba OS required an extensible scripting language, and Guido started writing Python at his leisure, borrowing some of the groundwork for the ABC language (Guido participated in the development of this language focused on teaching programming). In February 1991, Guido published the source text in the alt.sources newsgroup. The name of the language did not come from the species of reptiles. The author named the language after the popular British comedy television show of the 1970s \"Monty Pythons Flying Circus'\n",
    "pattern = re.compile('a\\w\\w\\b')\n",
    "\n",
    "len(pattern.findall(text))"
   ]
  },
  {
   "cell_type": "code",
   "execution_count": 27,
   "metadata": {},
   "outputs": [
    {
     "data": {
      "text/plain": [
       "21"
      ]
     },
     "execution_count": 27,
     "metadata": {},
     "output_type": "execute_result"
    }
   ],
   "source": [
    "text = 'The development of the Python language was started in the late 1980s by Guido van Rossum, a member of the Dutch CWI Institute. The distributed Amoeba OS required an extensible scripting language, and Guido started writing Python at his leisure, borrowing some of the groundwork for the ABC language (Guido participated in the development of this language focused on teaching programming). In February 1991, Guido published the source text in the alt.sources newsgroup. The name of the language did not come from the species of reptiles. The author named the language after the popular British comedy television show of the 1970s \"Monty Pythons Flying Circus\".'\n",
    "pattern = re.compile('[a e o q i u y]\\s[b c d g d j k l m n p r s t v w x z]')\n",
    "\n",
    "len(pattern.findall(text))"
   ]
  }
 ],
 "metadata": {
  "kernelspec": {
   "display_name": "Python 3",
   "language": "python",
   "name": "python3"
  },
  "language_info": {
   "codemirror_mode": {
    "name": "ipython",
    "version": 3
   },
   "file_extension": ".py",
   "mimetype": "text/x-python",
   "name": "python",
   "nbconvert_exporter": "python",
   "pygments_lexer": "ipython3",
   "version": "3.7.6"
  }
 },
 "nbformat": 4,
 "nbformat_minor": 4
}
