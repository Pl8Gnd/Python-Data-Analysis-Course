{
 "cells": [
  {
   "cell_type": "code",
   "execution_count": 10,
   "metadata": {},
   "outputs": [
    {
     "data": {
      "text/plain": [
       "[1,\n",
       " 1,\n",
       " 4,\n",
       " 1024,\n",
       " 9,\n",
       " 59049,\n",
       " 16,\n",
       " 1048576,\n",
       " 25,\n",
       " 9765625,\n",
       " 36,\n",
       " 60466176,\n",
       " 49,\n",
       " 282475249,\n",
       " 64,\n",
       " 1073741824,\n",
       " 81,\n",
       " 3486784401]"
      ]
     },
     "execution_count": 10,
     "metadata": {},
     "output_type": "execute_result"
    }
   ],
   "source": [
    "my_list = [x for x in range(10, 100) if x%3 == 0 and x%5 == 0]\n",
    "my_list\n",
    "\n",
    "powers = [x**y for x in range(1, 10) for y in [2,10]]\n",
    "powers"
   ]
  },
  {
   "cell_type": "code",
   "execution_count": null,
   "metadata": {},
   "outputs": [],
   "source": [
    "draw_dict = {\n",
    "    'Russia': 'A',\n",
    "    'Portugal': 'B',\n",
    "    'France': 'C',\n",
    "    'Denmark': 'C',\n",
    "    'Egypt': 'A'\n",
    "}\n",
    "country = 'Italy'\n",
    "for group in country:\n",
    "    draw_dict.setdefault(group, 'unknown')\n",
    "    if group in draw_dict:\n",
    "        print(draw_dict[group])\n",
    "else:\n",
    "    group = 'unknown'"
   ]
  },
  {
   "cell_type": "code",
   "execution_count": null,
   "metadata": {},
   "outputs": [],
   "source": [
    "numbers = [x for x in range(3,100) if [x%y for y in range(2,x)].count(0) == 0]\n",
    "numbers\n",
    "\n",
    "numbers = [x*y for x in range(1, 10) for y in [3, 5, 7]]\n",
    "numbers"
   ]
  },
  {
   "cell_type": "code",
   "execution_count": 13,
   "metadata": {},
   "outputs": [
    {
     "data": {
      "text/plain": [
       "{'Russia': 'A', 'Egypt': 'A'}"
      ]
     },
     "execution_count": 13,
     "metadata": {},
     "output_type": "execute_result"
    }
   ],
   "source": [
    "draw_dict = {\n",
    "    'Russia': 'A',\n",
    "    'Portugal': 'B',\n",
    "    'France': 'C',\n",
    "    'Denmark': 'C',\n",
    "    'Egypt': 'A'\n",
    "}\n",
    "draw_new = {}\n",
    "for key, group in draw_dict.items():\n",
    "    if draw_dict[key] == 'A':\n",
    "        draw_new[key] = group \n",
    "draw_new\n"
   ]
  },
  {
   "cell_type": "code",
   "execution_count": 14,
   "metadata": {},
   "outputs": [
    {
     "data": {
      "text/plain": [
       "13841"
      ]
     },
     "execution_count": 14,
     "metadata": {},
     "output_type": "execute_result"
    }
   ],
   "source": [
    "spends = {\n",
    "    '2019-04-01': 2504,  \n",
    "    '2019-04-02': 4994,\n",
    "    '2019-04-03': 6343\n",
    "}\n",
    "sum(spends.values())"
   ]
  },
  {
   "cell_type": "code",
   "execution_count": 18,
   "metadata": {},
   "outputs": [],
   "source": [
    "csv_file = [\n",
    "     ['100412', 'ATOMIC Hawx Prime 100', 9],\n",
    "     ['100728', 'Skateboard Jdbug RT03', 32],\n",
    "     ['100732', 'Rollersurf Razor RipStik Bright', 11],\n",
    "     ['100803', 'DC Tucknee Snowboard Boots', 20],\n",
    "     ['100898', 'Omron HJA-306 pedometer', 2],\n",
    "     ['100934', 'Beurer PM62 heart rate monitor', 17],\n",
    "]\n",
    "csv_file_filtered=[]\n",
    "for record in csv_file:\n",
    "    if record[2]>10:\n",
    "        csv_file_filtered.append(record)"
   ]
  },
  {
   "cell_type": "code",
   "execution_count": 19,
   "metadata": {},
   "outputs": [
    {
     "data": {
      "text/plain": [
       "[{'id': '100412', 'position': 'ATOMIC Hawx Prime 100 ski boots', 'count': 9},\n",
       " {'id': '100803', 'position': 'DC Tucknee snowboard boots', 'count': 20}]"
      ]
     },
     "execution_count": 19,
     "metadata": {},
     "output_type": "execute_result"
    }
   ],
   "source": [
    "csv_dict = [\n",
    "     {'id': '100412', 'position': 'ATOMIC Hawx Prime 100 ski boots', 'count': 9},\n",
    "     {'id': '100728', 'position': 'Jdbug RT03 skateboard', 'count': 32},\n",
    "     {'id': '100732', 'position': 'Roller surfboard Razor RipStik Bright', 'count': 11},\n",
    "     {'id': '100803', 'position': 'DC Tucknee snowboard boots', 'count': 20},\n",
    "     {'id': '100898', 'position': 'Omron HJA-306 pedometer', 'count': 2},\n",
    "     {'id': '100934', 'position': 'Beurer PM62 heart rate monitor', 'count': 17},\n",
    "]\n",
    "csv_dict_boots=[]\n",
    "for i in csv_dict:\n",
    "    if 'boots' in i['position']:\n",
    "        csv_dict_boots.append(i)\n",
    "csv_dict_boots"
   ]
  },
  {
   "cell_type": "code",
   "execution_count": null,
   "metadata": {},
   "outputs": [],
   "source": [
    "results = [\n",
    "    {'cost': 98, 'source': 'vk'},\n",
    "    {'cost': 153, 'source': 'yandex'},\n",
    "    {'cost': 110, 'source': 'facebook'},\n",
    "]\n",
    "minimum = 1000\n",
    "for i in results:\n",
    "    if i['cost'] < minimum:\n",
    "        minimum = i['cost']\n",
    "print(minimum)"
   ]
  },
  {
   "cell_type": "code",
   "execution_count": null,
   "metadata": {},
   "outputs": [],
   "source": [
    "defect_stats = [\n",
    "\t{'step number': 1, 'damage': 0.98},\n",
    "\t{'step number': 2, 'damage': 0.99},\n",
    "\t{'step number': 3, 'damage': 0.99},\n",
    "\t{'step number': 4, 'damage': 0.96},\n",
    "\t{'step number': 5, 'damage': 0.97},\n",
    "\t{'step number': 6, 'damage': 0.97},\n",
    "]\n",
    "itog=1\n",
    "for i in defect_stats:\n",
    "    itog=itog*i['damage']\n",
    "    if itog<0.9:\n",
    "        break\n",
    "print (i['step number'])"
   ]
  },
  {
   "cell_type": "code",
   "execution_count": 23,
   "metadata": {},
   "outputs": [
    {
     "name": "stdout",
     "output_type": "stream",
     "text": [
      "0.13121 AMD\n"
     ]
    }
   ],
   "source": [
    "currency = {\n",
    "    'AMD': {\n",
    "        'Name': 'Armenian drams',\n",
    "        'Nominal': 100,\n",
    "        'Value': 13.121\n",
    "    },\n",
    "    'AUD': {\n",
    "        'Name': 'Australian dollar',\n",
    "        'Nominal': 1,\n",
    "        'Value': 45.5309\n",
    "    },\n",
    "    'INR': {\n",
    "        'Name': 'Indian rupees',\n",
    "        'Nominal': 100,\n",
    "        'Value': 92.9658\n",
    "    },\n",
    "    'MDL': {\n",
    "        'Name': 'Moldovan Lei',\n",
    "        'Nominal': 10,\n",
    "        'Value': 36.9305\n",
    "    },\n",
    "}\n",
    "course={}\n",
    "name_min = None\n",
    "value_min = None\n",
    "for key in currency.keys():\n",
    "    course[key]=currency[key]['Value']/currency[key]['Nominal']\n",
    "    \n",
    "    for name, val in course.items():\n",
    "        if not value_min or val < value_min:\n",
    "            value_min = val\n",
    "            name_min = name\n",
    "print(value_min, name_min)"
   ]
  },
  {
   "cell_type": "code",
   "execution_count": 24,
   "metadata": {},
   "outputs": [
    {
     "name": "stdout",
     "output_type": "stream",
     "text": [
      "('AMD', 0.13121)\n"
     ]
    }
   ],
   "source": [
    "currency = {\n",
    "    'AMD': {\n",
    "        'Name': 'Armenian drams',\n",
    "        'Nominal': 100,\n",
    "        'Value': 13.121\n",
    "    },\n",
    "    'AUD': {\n",
    "        'Name': 'Australian dollar',\n",
    "        'Nominal': 1,\n",
    "        'Value': 45.5309\n",
    "    },\n",
    "    'INR': {\n",
    "        'Name': 'Indian rupees',\n",
    "        'Nominal': 100,\n",
    "        'Value': 92.9658\n",
    "    },\n",
    "    'MDL': {\n",
    "        'Name': 'Moldovan Lei',\n",
    "        'Nominal': 10,\n",
    "        'Value': 36.9305\n",
    "    },\n",
    "}\n",
    "course={}\n",
    "\n",
    "for key in currency.keys():\n",
    "    course[key]=currency[key]['Value']/currency[key]['Nominal']\n",
    "    \n",
    "print(min(course.items()))\n"
   ]
  },
  {
   "cell_type": "code",
   "execution_count": 26,
   "metadata": {},
   "outputs": [
    {
     "data": {
      "text/plain": [
       "225"
      ]
     },
     "execution_count": 26,
     "metadata": {},
     "output_type": "execute_result"
    }
   ],
   "source": [
    "bodycount  = {\n",
    "    'Curse of the Black Pearl': {\n",
    "    'man': 17\n",
    "    },\n",
    "\n",
    "    'Dead Mans Chest': {\n",
    "    'man': 56,\n",
    "    'hermit crabs': 1\n",
    "    },\n",
    "\n",
    "    'On the edge of the world': {\n",
    "    'man': 88\n",
    "    },\n",
    "\n",
    "    'On Strange Shores': {\n",
    "    'man': 56,\n",
    "    'mermaids': 2,\n",
    "    'poisonous toads': 3,\n",
    "    'zombie pirates': 2\n",
    "     }\n",
    "}\n",
    "sum( [sum( [bodycount[x][y] for y in bodycount[x]] ) for x in bodycount] )\n"
   ]
  }
 ],
 "metadata": {
  "kernelspec": {
   "display_name": "Python 3",
   "language": "python",
   "name": "python3"
  },
  "language_info": {
   "codemirror_mode": {
    "name": "ipython",
    "version": 3
   },
   "file_extension": ".py",
   "mimetype": "text/x-python",
   "name": "python",
   "nbconvert_exporter": "python",
   "pygments_lexer": "ipython3",
   "version": "3.7.6"
  }
 },
 "nbformat": 4,
 "nbformat_minor": 4
}
