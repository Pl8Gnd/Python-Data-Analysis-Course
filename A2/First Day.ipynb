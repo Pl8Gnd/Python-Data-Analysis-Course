{
 "cells": [
  {
   "cell_type": "code",
   "execution_count": 1,
   "metadata": {},
   "outputs": [
    {
     "data": {
      "text/plain": [
       "['Nolan']"
      ]
     },
     "execution_count": 1,
     "metadata": {},
     "output_type": "execute_result"
    }
   ],
   "source": [
    "sparta = ['Hooley', 'Gaotier', 'Nolan', 'Oustin' ]\n",
    "sparta[-2:1:-3]"
   ]
  },
  {
   "cell_type": "code",
   "execution_count": 6,
   "metadata": {
    "scrolled": true
   },
   "outputs": [
    {
     "name": "stdout",
     "output_type": "stream",
     "text": [
      "[1, 2, 3, 4, 5, 100500]\n"
     ]
    }
   ],
   "source": [
    "my_list = [1, 2, 3, 4, 5]\n",
    "my_list.append(100500)\n",
    "print(my_list)"
   ]
  },
  {
   "cell_type": "code",
   "execution_count": 11,
   "metadata": {
    "scrolled": true
   },
   "outputs": [
    {
     "data": {
      "text/plain": [
       "32"
      ]
     },
     "execution_count": 11,
     "metadata": {},
     "output_type": "execute_result"
    }
   ],
   "source": [
    "my_list = [1]\n",
    "for i in range(10):\n",
    "    my_list.append(my_list[i] * 2)\n",
    "my_list.sort(reverse = True)\n"
   ]
  },
  {
   "cell_type": "code",
   "execution_count": 36,
   "metadata": {},
   "outputs": [
    {
     "name": "stdout",
     "output_type": "stream",
     "text": [
      "16\n"
     ]
    }
   ],
   "source": [
    "my_list = []\n",
    "result = 0\n",
    "for number in range(1,50+1):\n",
    "    if number%3==0:\n",
    "        my_list.append(number)\n",
    "        result = len(my_list)   \n",
    "else:\n",
    "    print(result)\n",
    "    "
   ]
  },
  {
   "cell_type": "code",
   "execution_count": 37,
   "metadata": {},
   "outputs": [
    {
     "name": "stdout",
     "output_type": "stream",
     "text": [
      "408\n"
     ]
    }
   ],
   "source": [
    "my_list = []\n",
    "result = 0\n",
    "for number in range(1,51):\n",
    "    if number%3==0:\n",
    "        my_list.append(number)\n",
    "        result = sum(my_list)   \n",
    "else:\n",
    "    print(result)\n",
    "    "
   ]
  },
  {
   "cell_type": "code",
   "execution_count": 8,
   "metadata": {},
   "outputs": [
    {
     "data": {
      "text/plain": [
       "17"
      ]
     },
     "execution_count": 8,
     "metadata": {},
     "output_type": "execute_result"
    }
   ],
   "source": [
    "raw_list = ['variables', 'loops', 'conditions', 'lists', 'dictionaries', 'files', 'functions']\n",
    "my_list = []\n",
    "for name in raw_list:\n",
    "    my_list.append(len(name))\n",
    "    result = min(my_list) + max(my_list)\n",
    "result"
   ]
  },
  {
   "cell_type": "code",
   "execution_count": 58,
   "metadata": {},
   "outputs": [
    {
     "name": "stdout",
     "output_type": "stream",
     "text": [
      "4\n",
      "16\n",
      "20\n",
      "1633\n",
      "1633\n",
      "3479\n",
      "3479\n",
      "3479\n",
      "5041\n",
      "5041\n"
     ]
    }
   ],
   "source": [
    "raw_list = [2, 8, 10, 23, 64, 49, 11, 52, 71, 14]\n",
    "x_min = min(raw_list)\n",
    "x_max = max(raw_list)\n",
    "my_list = []\n",
    "for i in raw_list:\n",
    "    if i%2==0:\n",
    "        my_list.append(i*x_min)\n",
    "    else:\n",
    "        my_list.append(i*x_max)\n",
    "    result = max(my_list)\n",
    "    print(result)"
   ]
  },
  {
   "cell_type": "code",
   "execution_count": 10,
   "metadata": {},
   "outputs": [
    {
     "data": {
      "text/plain": [
       "['a', 'b', 'e', 'o', 'p', 'p', 't', 'w']"
      ]
     },
     "execution_count": 10,
     "metadata": {},
     "output_type": "execute_result"
    }
   ],
   "source": [
    "fruits = 'apple banana orange eggplant pepper tomato watermelon pineapple'.split()\n",
    "my_list = []\n",
    "for fruit in fruits:\n",
    "    my_list.append(fruit[0])\n",
    "my_list.sort()\n",
    "my_list"
   ]
  },
  {
   "cell_type": "code",
   "execution_count": 7,
   "metadata": {},
   "outputs": [
    {
     "name": "stdout",
     "output_type": "stream",
     "text": [
      "[66500.0, 95000.0, 123500.0, 93100.0, 104500.0]\n"
     ]
    }
   ],
   "source": [
    "old_salary = [35000, 50000, 65000, 49000, 55000]\n",
    "new_salary = []\n",
    "for salary in old_salary:\n",
    "    new_salary.append(salary * 1.9)\n",
    "\n",
    "print(new_salary)"
   ]
  },
  {
   "cell_type": "code",
   "execution_count": 9,
   "metadata": {},
   "outputs": [
    {
     "name": "stdout",
     "output_type": "stream",
     "text": [
      "590\n"
     ]
    }
   ],
   "source": [
    "my_list = [1, 10, 45, 31, 12, 54, 111, 398, 97, 63]\n",
    "my_list.sort(reverse = True)\n",
    "new_list = my_list[::2]\n",
    "result = 0\n",
    "for number in new_list:\n",
    "    result += number\n",
    "print(result)"
   ]
  },
  {
   "cell_type": "code",
   "execution_count": 8,
   "metadata": {},
   "outputs": [
    {
     "name": "stdout",
     "output_type": "stream",
     "text": [
      "399\n"
     ]
    }
   ],
   "source": [
    "my_list = [1, 10, 45, 31, 12, 54, 111, 398, 97, 63]\n",
    "result = max(my_list) + min(my_list) + my_list.count('batman')\n",
    "print(result)"
   ]
  },
  {
   "cell_type": "code",
   "execution_count": 20,
   "metadata": {
    "scrolled": true
   },
   "outputs": [
    {
     "name": "stdout",
     "output_type": "stream",
     "text": [
      "[[], 'b', 3]\n"
     ]
    }
   ],
   "source": [
    "a=list()\n",
    "a=[a, 'b', 3]\n",
    "print(a)"
   ]
  },
  {
   "cell_type": "code",
   "execution_count": 11,
   "metadata": {
    "scrolled": true
   },
   "outputs": [
    {
     "name": "stdout",
     "output_type": "stream",
     "text": [
      "['cat', ' dog', ' hamster', ' guinea pig', ' parrot', ' horse']\n"
     ]
    }
   ],
   "source": [
    "animals = 'cat, dog, hamster, guinea pig, parrot, horse'.split(',')\n",
    "print(animals)"
   ]
  },
  {
   "cell_type": "code",
   "execution_count": 18,
   "metadata": {},
   "outputs": [
    {
     "name": "stdout",
     "output_type": "stream",
     "text": [
      "[1, 2, 3, 'm']\n"
     ]
    }
   ],
   "source": [
    "b=list((1,2,3,'m'))\n",
    "print(b)"
   ]
  },
  {
   "cell_type": "code",
   "execution_count": 13,
   "metadata": {},
   "outputs": [
    {
     "name": "stdout",
     "output_type": "stream",
     "text": [
      "cat\n",
      "hamster\n",
      "guinea pig\n"
     ]
    }
   ],
   "source": [
    "animals = ['cat', 'dog', 'hamster', 'guinea pig', 'parrot', 'horse']\n",
    "print(animals[0])\n",
    "print(animals[2])\n",
    "print(animals[3])"
   ]
  },
  {
   "cell_type": "code",
   "execution_count": 17,
   "metadata": {},
   "outputs": [
    {
     "name": "stdout",
     "output_type": "stream",
     "text": [
      "Hooley\n",
      "Nolan\n",
      "Oustin\n"
     ]
    }
   ],
   "source": [
    "OurBestStudents = ['Hooley', 'Gaotier', 'Nolan', 'Oustin']\n",
    "print(OurBestStudents[0])\n",
    "print(OurBestStudents[2])\n",
    "print(OurBestStudents[3])"
   ]
  }
 ],
 "metadata": {
  "kernelspec": {
   "display_name": "Python 3",
   "language": "python",
   "name": "python3"
  },
  "language_info": {
   "codemirror_mode": {
    "name": "ipython",
    "version": 3
   },
   "file_extension": ".py",
   "mimetype": "text/x-python",
   "name": "python",
   "nbconvert_exporter": "python",
   "pygments_lexer": "ipython3",
   "version": "3.7.6"
  }
 },
 "nbformat": 4,
 "nbformat_minor": 4
}
