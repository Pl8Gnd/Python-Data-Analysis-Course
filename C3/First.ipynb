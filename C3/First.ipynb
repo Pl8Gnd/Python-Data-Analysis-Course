{
 "cells": [
  {
   "cell_type": "code",
   "execution_count": null,
   "metadata": {},
   "outputs": [],
   "source": [
    "brew update  \n",
    "brew install postgresql  \n",
    "\n",
    "pg_ctl -D /usr/local/var/postgres start \n",
    "\n",
    "createdb sf_test\n",
    "dropdb sf_test \n",
    "\n",
    "psql sf_test\n",
    "\n",
    "\\list - List all your databases\n",
    "\\c mydatabasename - Connect to a database called mydatabasename\n",
    "\\d - List of all available tables in the database to which you are currently connected\n",
    "\\d mytablename - More information for a table called mydatabasename. For example, this command shows which columns are in this table."
   ]
  },
  {
   "cell_type": "code",
   "execution_count": null,
   "metadata": {},
   "outputs": [],
   "source": [
    "create table person (  \n",
    "  user_id serial primary key,  \n",
    "  username varchar(50) unique not null,  \n",
    "  password varchar(50) not null); "
   ]
  },
  {
   "cell_type": "code",
   "execution_count": null,
   "metadata": {},
   "outputs": [],
   "source": [
    "INSERT INTO table (column1, column2, …)  \n",
    "VALUES  \n",
    "   (value1, value2, …),  \n",
    "   (value1, value2, …) ,...;"
   ]
  },
  {
   "cell_type": "code",
   "execution_count": null,
   "metadata": {},
   "outputs": [],
   "source": [
    "SELECT * FROM books\n",
    "SELECT * FROM books WHERE publisher = 'Horns and hooves' and book_average_rating > 7  \n",
    "SELECT * FROM books WHERE publisher = 'Horns and hooves' ORDER BY book_average_rating DESC \n",
    "SELECT * FROM books WHERE book_average_rating = 10 ORDER BY author, book_name  "
   ]
  },
  {
   "cell_type": "code",
   "execution_count": null,
   "metadata": {},
   "outputs": [],
   "source": [
    "Aggregate Functions:\n",
    "\n",
    "COUNT - the number of lines;\n",
    "MIN is the minimum value;\n",
    "MAX - maximum value;\n",
    "AVG is the average value;\n",
    "SUM - the sum of the indicators."
   ]
  },
  {
   "cell_type": "code",
   "execution_count": null,
   "metadata": {},
   "outputs": [],
   "source": [
    "SELECT publisher, count(*) FROM books GROUP BY publisher  \n",
    "SELECT publisher, count(book_id), avg(book_average_rating) FROM books GROUP BY publisher"
   ]
  },
  {
   "cell_type": "code",
   "execution_count": 5,
   "metadata": {},
   "outputs": [
    {
     "name": "stdout",
     "output_type": "stream",
     "text": [
      "You are connected to -  PostgreSQL 12.2 on x86_64-apple-darwin16.7.0, compiled by Apple LLVM version 9.0.0 (clang-900.0.39.2), 64-bit \n",
      "\n",
      "PostgreSQL connection is closed\n"
     ]
    }
   ],
   "source": [
    "import psycopg2  \n",
    "try:  \n",
    "    connection = psycopg2.connect(user = \"admin\",  \n",
    "                                  password = \"\",  \n",
    "                                  host = \"127.0.0.1\",  \n",
    "                                  port = \"5432\",  \n",
    "                                  database = \"tests\")  \n",
    "    cursor = connection.cursor()  \n",
    "    cursor.execute(\"SELECT version();\")  \n",
    "    record = cursor.fetchone()  \n",
    "    print(\"You are connected to - \", record[0], \"\\n\")  \n",
    "except (Exception, psycopg2.Error) as error:  \n",
    "    print(\"Error while connecting to PostgreSQL\", error)  \n",
    "finally:  \n",
    "    if (connection):  \n",
    "        cursor.close()  \n",
    "        connection.close()  \n",
    "        print(\"PostgreSQL connection is closed\")  "
   ]
  },
  {
   "cell_type": "code",
   "execution_count": null,
   "metadata": {},
   "outputs": [],
   "source": [
    "Transactions are subject to the ACID principle:\n",
    "\n",
    "Atomic (atomicity) - if a commit occurs, then all operations have been completed;\n",
    "Consistent - you can make a commit only if it satisfies all the restrictions (for example, NOT NULL);\n",
    "Isolated (isolation) - outside the transaction it is not visible what is happening inside until the commit has occurred;\n",
    "Durable - regardless of errors in the system, a transaction that was committed (that is, there was a commit) will remain committed even if the server crashes immediately after the commit."
   ]
  },
  {
   "cell_type": "code",
   "execution_count": 16,
   "metadata": {},
   "outputs": [
    {
     "name": "stdout",
     "output_type": "stream",
     "text": [
      "1 Record inserted successfully into mobile table\n",
      "PostgreSQL connection is closed\n"
     ]
    }
   ],
   "source": [
    "try:  \n",
    "    connection = psycopg2.connect(user = \"admin\",  \n",
    "                                  password = \"\",  \n",
    "                                  host = \"127.0.0.1\",  \n",
    "                                  port = \"5432\",  \n",
    "                                  database = \"tests\")  \n",
    "    cursor = connection.cursor()  \n",
    "      \n",
    "    create_table_query = '''CREATE TABLE mobile \n",
    "          (ID INT PRIMARY KEY     NOT NULL, \n",
    "          MODEL           TEXT    NOT NULL, \n",
    "          PRICE         REAL); '''  \n",
    "      \n",
    "    cursor.execute(create_table_query)  \n",
    "    connection.commit()  \n",
    "    print(\"Table created successfully in PostgreSQL \")  \n",
    "except (Exception, psycopg2.DatabaseError) as error :  \n",
    "    print (\"Error while creating PostgreSQL table\", error)  \n",
    "finally:   \n",
    "        if(connection):  \n",
    "            cursor.close()  \n",
    "            connection.close()  \n",
    "            print(\"PostgreSQL connection is closed\") "
   ]
  },
  {
   "cell_type": "code",
   "execution_count": null,
   "metadata": {},
   "outputs": [],
   "source": [
    "try:  \n",
    "    connection = psycopg2.connect(user=\"admin\",  \n",
    "                                  password=\"\",  \n",
    "                                  host=\"127.0.0.1\",  \n",
    "                                  port=\"5432\",  \n",
    "                                  database=\"tests\")  \n",
    "    cursor = connection.cursor()  \n",
    "  \n",
    "   \n",
    "\n",
    "except (Exception, psycopg2.Error) as error :  \n",
    "    if(connection):  \n",
    "        print(\"Error\", error)  \n",
    "finally:  \n",
    "    if(connection):  \n",
    "        cursor.close()  \n",
    "        connection.close() "
   ]
  },
  {
   "cell_type": "code",
   "execution_count": 17,
   "metadata": {
    "scrolled": true
   },
   "outputs": [
    {
     "name": "stdout",
     "output_type": "stream",
     "text": [
      "Error duplicate key value violates unique constraint \"mobile_pkey\"\n",
      "DETAIL:  Key (id)=(5) already exists.\n",
      "\n"
     ]
    }
   ],
   "source": [
    "try:  \n",
    "    connection = psycopg2.connect(user=\"admin\",  \n",
    "                                  password=\"\",  \n",
    "                                  host=\"127.0.0.1\",  \n",
    "                                  port=\"5432\",  \n",
    "                                  database=\"tests\")  \n",
    "    cursor = connection.cursor()  \n",
    "    postgres_insert_query = \"\"\" INSERT INTO mobile (ID, MODEL, PRICE) VALUES (%s, %s, %s)\"\"\"  \n",
    "    record_to_insert = (5, 'One Plus 6', 950)  \n",
    "    cursor.execute(postgres_insert_query, record_to_insert)  \n",
    "    connection.commit()  \n",
    "    count = cursor.rowcount  \n",
    "    print (count, \"Record inserted successfully into mobile table\")  \n",
    "except (Exception, psycopg2.Error) as error :  \n",
    "    if(connection):  \n",
    "        print(\"Error\", error)  \n",
    "finally:  \n",
    "    if(connection):  \n",
    "        cursor.close()  \n",
    "        connection.close() "
   ]
  },
  {
   "cell_type": "code",
   "execution_count": 47,
   "metadata": {
    "scrolled": true
   },
   "outputs": [
    {
     "name": "stdout",
     "output_type": "stream",
     "text": [
      "[(5, 'One Plus 6', 900.0), (1, 'Iphone XS', 900.0), (3, 'Pixel', 900.0)]\n"
     ]
    }
   ],
   "source": [
    "try:  \n",
    "    connection = psycopg2.connect(user=\"admin\",  \n",
    "                                  password=\"\",  \n",
    "                                  host=\"127.0.0.1\",  \n",
    "                                  port=\"5432\",  \n",
    "                                  database=\"tests\")  \n",
    "    cursor = connection.cursor()      \n",
    "    \n",
    "    # Add New Strings  \n",
    "    postgres_insert_query = \"\"\" INSERT INTO mobile (ID, MODEL, PRICE) VALUES (%s,%s,%s)\"\"\"  \n",
    "    records_to_insert = [  \n",
    "        (1, 'Iphone XS', 1050),  \n",
    "        (2, 'Nutella', 30),  \n",
    "        (3, 'Pixel', 970)  \n",
    "    ]  \n",
    "    for record in records_to_insert:  \n",
    "        cursor.execute(postgres_insert_query, record)  \n",
    "     \n",
    "    # Update\n",
    "    postgreSQL_update_Query = \"update mobile set price = 900 where price > 900\"  \n",
    "    cursor.execute(postgreSQL_update_Query)\n",
    "    print(cursor.rowcount) \n",
    "    connection.commit() \n",
    "\n",
    "    # Delete\n",
    "    query = \"\"\"delete from mobile where id = %s\"\"\"  \n",
    "    cursor.execute(query, (2,))  \n",
    "    connection.commit()\n",
    "    \n",
    "    \n",
    "    # Select\n",
    "    postgreSQL_select_Query = \"select * from mobile\"  \n",
    "    cursor.execute(postgreSQL_select_Query)  \n",
    "    mobile_records = cursor.fetchall()   \n",
    "    connection.commit()\n",
    "    print(mobile_records)\n",
    "     \n",
    "except (Exception, psycopg2.Error) as error :  \n",
    "    if(connection):  \n",
    "        print(\"Error\", error)  \n",
    "finally:  \n",
    "    if(connection):  \n",
    "        cursor.close()  \n",
    "        connection.close() "
   ]
  },
  {
   "cell_type": "code",
   "execution_count": 58,
   "metadata": {
    "scrolled": true
   },
   "outputs": [
    {
     "name": "stdout",
     "output_type": "stream",
     "text": [
      "[(3, 'Nutella', 970.0)]\n"
     ]
    }
   ],
   "source": [
    "try:  \n",
    "    connection = psycopg2.connect(user=\"admin\",  \n",
    "                                  password=\"\",  \n",
    "                                  host=\"127.0.0.1\",  \n",
    "                                  port=\"5432\",  \n",
    "                                  database=\"tests\")  \n",
    "    cursor = connection.cursor()  \n",
    "  \n",
    "       \n",
    "    cursor.execute(\"DELETE FROM mobile\")\n",
    "\n",
    "    sql_insert_query = \"\"\" INSERT INTO mobile (id, model, price) VALUES (%s,%s,%s) \"\"\"  \n",
    "    records_to_insert = [  \n",
    "        (1, 'Iphone XS', 1050),  \n",
    "        (2, 'Nutella', 30),  \n",
    "        (3, 'Pixel', 970)  \n",
    "    ]  \n",
    "    result = cursor.executemany(sql_insert_query, records_to_insert)  \n",
    "    connection.commit()  \n",
    "    \n",
    "    sql_update_query = \"\"\" UPDATE  mobile set model = %s where model = %s \"\"\"  \n",
    "    records_to_update = [  \n",
    "    ('Nutella', 'Iphone XS',),  \n",
    "    ('Nutella', 'Pixel',)  \n",
    "    ]  \n",
    "    result = cursor.executemany(sql_update_query, records_to_update) \n",
    "    connection.commit() \n",
    "        \n",
    "    cursor.execute(\"select price from mobile where price not between 900 and 1000\")  \n",
    "    prices_to_delete = cursor.fetchall()  \n",
    "\n",
    "   \n",
    "    sql_delete_query = \"\"\" DELETE FROM mobile WHERE price = %s \"\"\"  \n",
    "    result = cursor.executemany(sql_delete_query, prices_to_delete)  \n",
    "    connection.commit()  \n",
    "    \n",
    "except (Exception, psycopg2.Error) as error :  \n",
    "    if(connection):  \n",
    "        print(\"Error\", error)  \n",
    "finally:  \n",
    "    if(connection):  \n",
    "        cursor.close()  \n",
    "        connection.close() "
   ]
  },
  {
   "cell_type": "code",
   "execution_count": 61,
   "metadata": {},
   "outputs": [],
   "source": [
    "try:  \n",
    "    connection = psycopg2.connect(user=\"admin\",  \n",
    "                                  password=\"\",  \n",
    "                                  host=\"127.0.0.1\",  \n",
    "                                  port=\"5432\",  \n",
    "                                  database=\"tests\")  \n",
    "    cursor = connection.cursor()  \n",
    "  \n",
    "    #Read\n",
    "    with open(\"mobile.csv\", 'r') as f:  \n",
    "        cursor.copy_from(f, 'mobile', sep=',')  \n",
    "        connection.commit()    \n",
    "\n",
    "    #Write\n",
    "    with open(\"mobile_2.csv\", 'w') as f:  \n",
    "        cursor.copy_to(f, 'mobile', sep=',')  \n",
    "    connection.commit() \n",
    "    \n",
    "\n",
    "except (Exception, psycopg2.Error) as error :  \n",
    "    if(connection):  \n",
    "        print(\"Error\", error)  \n",
    "finally:  \n",
    "    if(connection):  \n",
    "        cursor.close()  \n",
    "        connection.close() "
   ]
  }
 ],
 "metadata": {
  "kernelspec": {
   "display_name": "Python 3",
   "language": "python",
   "name": "python3"
  },
  "language_info": {
   "codemirror_mode": {
    "name": "ipython",
    "version": 3
   },
   "file_extension": ".py",
   "mimetype": "text/x-python",
   "name": "python",
   "nbconvert_exporter": "python",
   "pygments_lexer": "ipython3",
   "version": "3.7.6"
  }
 },
 "nbformat": 4,
 "nbformat_minor": 4
}
